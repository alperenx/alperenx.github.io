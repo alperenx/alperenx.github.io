{
  "metadata": {
    "kernelspec": {
      "name": "python",
      "display_name": "Python (Pyodide)",
      "language": "python"
    },
    "language_info": {
      "codemirror_mode": {
        "name": "python",
        "version": 3
      },
      "file_extension": ".py",
      "mimetype": "text/x-python",
      "name": "python",
      "nbconvert_exporter": "python",
      "pygments_lexer": "ipython3",
      "version": "3.8"
    }
  },
  "nbformat_minor": 5,
  "nbformat": 4,
  "cells": [
    {
      "cell_type": "code",
      "source": "import numpy as np\nimport scipy\nimport scipy.special\nimport itertools\nimport pandas as pd\nimport math\nimport copy\nfrom math import comb\nfrom sympy import Matrix, symbols, Poly,degree\nfrom functools import partial\nimport dask\nimport dask.dataframe as dd\nfrom sympy.utilities.lambdify import lambdify\nimport time",
      "metadata": {},
      "execution_count": 1,
      "outputs": [],
      "id": "0ca6867c"
    },
    {
      "cell_type": "markdown",
      "source": "# Greedy Aproximation via Energy Increment\n\nThis is an implementation of the Energy Increment algorithm in the paper https://arxiv.org/abs/2207.12529.  The algorithm uses following sub-routines\n\n* Computation of $L_p$ norms of symmetric tensors using the quadrature rule proved by Cristancho and Velasco\n* Sampling a collection of vectors on $n$-sphere $S^{n-1}$ and evaluating a symmetric tensor on these vectors \n* Creating a flag of subspaces and projecting a symmetric tensor on these subspaces. Eventually, these projections create the low-rank approximation.\n",
      "metadata": {},
      "id": "616368c6"
    },
    {
      "cell_type": "markdown",
      "source": "## S. Cristancho and M. Velasco quadrature rule implementation into Python",
      "metadata": {},
      "id": "cb9cad4d"
    },
    {
      "cell_type": "markdown",
      "source": "We start implementing in S. Cristancho and M. Velasco, Harmonic hierarchies for polynomial optimization, https://arxiv.org/abs/2202.12865, for computing $L_p$-norms of symmetric tensors. We want to note from the beginning that we will use monomial index notation in this code. We recall that by a quadrature formula of algebraic degree $2t$ for the Borel measure $\\mu$ on $\\mathbb{S}^{n-1}$ Cristancho and Velasco paper means a pair $(X,W)$ where $X\\subset \\mathbb{S}^{n-1}$ and $W: X \\to \\mathbb{R}_{>0}$ is a function satisfying the equality\n\\begin{equation}\n\\label{spherical_formula}\n    \\displaystyle\\int_{\\mathbb{S}^{n-1}} f(y) \\, d\\mu(y)\n    =\n    \\sum\\limits_{x\\in X} W(x) f(x)\n\\end{equation}\nfor every homogeneous polynomial of even degree $2t$.\n",
      "metadata": {},
      "id": "d2216681"
    },
    {
      "cell_type": "markdown",
      "source": "### Computing the pair $(X,W)$ in quadrature rule\n\nThe rule uses volume of $n$-dimensional ball and surface area of $n$-dimensional sphere, they are computed below.",
      "metadata": {},
      "id": "0150bc07"
    },
    {
      "cell_type": "markdown",
      "source": "#### Volume of the $n$-dimensional ball",
      "metadata": {},
      "id": "9daafefe"
    },
    {
      "cell_type": "code",
      "source": "def ball_volume(n:int) -> float:\n    \n    \"\"\"\n    Parameter:\n    \n    n: int. Dimension of the ball.\n    \n    Output:\n    \n    V: float. Volume of the n-dimensional ball.\n    \"\"\"\n    \n    V = 1\n    if n==1:\n        V = 2\n    elif n>1:\n        V = (2*np.pi/n)*ball_volume(n-2)\n    elif n<0:\n        raise ValueError(\"The dimension n cannot be lower than 0\")\n    return V",
      "metadata": {
        "trusted": true
      },
      "execution_count": 1,
      "outputs": [],
      "id": "da80fb4b"
    },
    {
      "cell_type": "markdown",
      "source": "#### Surface Area of the $n$-dimensional sphere",
      "metadata": {},
      "id": "c80947d1"
    },
    {
      "cell_type": "code",
      "source": "def sphere_surface_area(n:int) -> float:\n    \n    \"\"\"\n    Parameter:\n    \n    n: int. Dimension of the ball.\n    \n    Output:\n    \n    return: float. Surface area of the n-dimensional sphere.\n    \"\"\"\n    \n    return (n+1)*ball_volume(n+1)",
      "metadata": {},
      "execution_count": 3,
      "outputs": [],
      "id": "3bf23b35"
    },
    {
      "cell_type": "markdown",
      "source": "#### Spherical quadrature function",
      "metadata": {},
      "id": "49fca3bb"
    },
    {
      "cell_type": "markdown",
      "source": "We now we provice S. Cristancho and M. Velasco Julia package's implementation in python.",
      "metadata": {},
      "id": "97d3aa76"
    },
    {
      "cell_type": "code",
      "source": "def custom_flatten(x):\n    \n    \"\"\"\n    Parameter:\n    \n    x: array. List of two elements.\n    \n    Output:\n    \n    result: array. The second element of the list has a transformation.\n    \"\"\"\n    \n    t1 = x[0]\n    t2 = np.sqrt(1-x[0]**2)*x[1]\n    result = np.append(np.array(t1), np.array(t2))\n\n    return result\n\ndef spherical_quadrature(n:int, deg:int):\n    \n    \"\"\"\n    Parameters:\n    \n    n: int. Dimension of the space.    \n    deg: int. Degree. Must be an even number.\n    \n    Output:\n    \n    (X, WX): (array, array). Pair (X,W) for the cubature formula.\n    \"\"\"\n    \n    X = np.array([1.,-1.])\n    WX = np.array([1.,1.])\n    if n > 1:\n        Y, WY = spherical_quadrature(n-1,deg)\n        Z, WZ = scipy.special.roots_jacobi(deg,(n-3)/2,(n-3)/2)\n        X = np.array([custom_flatten(comb) for comb in itertools.product(Z,Y)])\n        WX = np.array([np.prod(comb) for comb in itertools.product(WZ,WY)])\n    elif n < 1:\n        raise ValueError(\"dimension argument must be positive\")\n        \n    return X,WX",
      "metadata": {},
      "execution_count": 4,
      "outputs": [],
      "id": "1d8c3fea"
    },
    {
      "cell_type": "markdown",
      "source": "##### Example",
      "metadata": {},
      "id": "e89c346f"
    },
    {
      "cell_type": "code",
      "source": "spherical_quadrature(3,4)",
      "metadata": {},
      "execution_count": 5,
      "outputs": [
        {
          "execution_count": 5,
          "output_type": "execute_result",
          "data": {
            "text/plain": [
              "(array([[-0.86113631, -0.46967645,  0.19454636],\n",
              "        [-0.86113631, -0.46967645, -0.19454636],\n",
              "        [-0.86113631, -0.19454636,  0.46967645],\n",
              "        [-0.86113631, -0.19454636, -0.46967645],\n",
              "        [-0.86113631,  0.19454636,  0.46967645],\n",
              "        [-0.86113631,  0.19454636, -0.46967645],\n",
              "        [-0.86113631,  0.46967645,  0.19454636],\n",
              "        [-0.86113631,  0.46967645, -0.19454636],\n",
              "        [-0.33998104, -0.86884614,  0.35988786],\n",
              "        [-0.33998104, -0.86884614, -0.35988786],\n",
              "        [-0.33998104, -0.35988786,  0.86884614],\n",
              "        [-0.33998104, -0.35988786, -0.86884614],\n",
              "        [-0.33998104,  0.35988786,  0.86884614],\n",
              "        [-0.33998104,  0.35988786, -0.86884614],\n",
              "        [-0.33998104,  0.86884614,  0.35988786],\n",
              "        [-0.33998104,  0.86884614, -0.35988786],\n",
              "        [ 0.33998104, -0.86884614,  0.35988786],\n",
              "        [ 0.33998104, -0.86884614, -0.35988786],\n",
              "        [ 0.33998104, -0.35988786,  0.86884614],\n",
              "        [ 0.33998104, -0.35988786, -0.86884614],\n",
              "        [ 0.33998104,  0.35988786,  0.86884614],\n",
              "        [ 0.33998104,  0.35988786, -0.86884614],\n",
              "        [ 0.33998104,  0.86884614,  0.35988786],\n",
              "        [ 0.33998104,  0.86884614, -0.35988786],\n",
              "        [ 0.86113631, -0.46967645,  0.19454636],\n",
              "        [ 0.86113631, -0.46967645, -0.19454636],\n",
              "        [ 0.86113631, -0.19454636,  0.46967645],\n",
              "        [ 0.86113631, -0.19454636, -0.46967645],\n",
              "        [ 0.86113631,  0.19454636,  0.46967645],\n",
              "        [ 0.86113631,  0.19454636, -0.46967645],\n",
              "        [ 0.86113631,  0.46967645,  0.19454636],\n",
              "        [ 0.86113631,  0.46967645, -0.19454636]]),\n",
              " array([0.27320456, 0.27320456, 0.27320456, 0.27320456, 0.27320456,\n",
              "        0.27320456, 0.27320456, 0.27320456, 0.51219361, 0.51219361,\n",
              "        0.51219361, 0.51219361, 0.51219361, 0.51219361, 0.51219361,\n",
              "        0.51219361, 0.51219361, 0.51219361, 0.51219361, 0.51219361,\n",
              "        0.51219361, 0.51219361, 0.51219361, 0.51219361, 0.27320456,\n",
              "        0.27320456, 0.27320456, 0.27320456, 0.27320456, 0.27320456,\n",
              "        0.27320456, 0.27320456]))"
            ]
          },
          "metadata": {}
        }
      ],
      "id": "38fa896a"
    },
    {
      "cell_type": "markdown",
      "source": "## Rank one symmetric tensors $v \\otimes \\cdots \\otimes v$",
      "metadata": {},
      "id": "ee2204b6"
    },
    {
      "cell_type": "markdown",
      "source": "We recall that symmetric tensors can be identified with homogenous polynomials. Therefore, for convenience, we work with polynomials of the type $p(x)= c \\cdot \\langle v, x \\rangle^d$ to represent rank one symmetric tensors of the type $v \\otimes \\cdots \\otimes v$.",
      "metadata": {},
      "id": "776c18fc"
    },
    {
      "cell_type": "code",
      "source": "class custom_polynomial:\n    \n    def __init__(self,const:int, v:list, d:int):\n        \n        \"\"\"\n        Parameters:\n        \n        self: Parameter in instance method.\n        const: int. Constant multiplying the inner product on the expression above.\n        v: list. Vector of real numbers.\n        d: int. Degree of the polynomial. This must be an even number.\n        \"\"\"\n        \n        self.num_var = len(v)\n        self.variables = symbols(\" \".join([f\"x{i}\" for i in range(1,self.num_var + 1)]))\n        self.expr = const*(Matrix(list(self.variables)).dot((Matrix(list(v))))**d)\n        self.degree = d\n        self.f = lambdify(list(self.variables),self.expr)\n        \n### The evaluate function evaluates a given polynomial at a given point.\n    \n    def evaluate(self,w):\n        \n        \"\"\"\n        Parameters:\n        \n        self: Parameter in instance method. Polynomial defined in the class.\n        w: list. Point at which the polynomial is evaluated.\n        \n        Output:\n        \n        result: float. Evaluation of the polynomial at w.\n        \"\"\"\n        \n        if self.num_var != len(w):\n            raise Exception(\"This polynomial cannot be evaluated\")\n            \n        result = self.f(*list(w))\n        \n        return float(result)\n    \n### Using the spherical quadrature function created above, we compute the L_r-norm of the polynomial.\n    \n    def Lr_norm(self,X,WX,r):\n        \n        \"\"\"\n        Parameters:\n        \n        self: Parameter in instance method. Polynomial defined in the class.\n        X: list. List of elements in X corresponding to the cubature formula.\n        WX: list. List of elements in WX corresponding to the cubature formula.\n        r: int. Point at which the polynomial is evaluated.\n        \n        Output:\n        \n        return: float. L_r-norm of the polynomial.\n        \"\"\"\n        \n        c = sphere_surface_area(self.num_var-1)\n        \n        evaluations = parallelized_evaluation(self,X)\n        evaluations = np.array(evaluations)**r\n        \n        return ((1/c) * np.sum(WX*(evaluations)))**(1/r)",
      "metadata": {
        "tags": []
      },
      "execution_count": 6,
      "outputs": [],
      "id": "d9c3313c"
    },
    {
      "cell_type": "markdown",
      "source": "For convenience we include a function calling the evaluate above.",
      "metadata": {},
      "id": "e030ccf9"
    },
    {
      "cell_type": "code",
      "source": "def evaluate_pol(poly,v):\n    \n    \"\"\"\n    Parameters:\n    \n    poly: custom_polynomial. Polynomial to be evaluated.\n    v: list. Point we the polynomial is evaluated.\n    \n    Output:\n    \n    fv: float. Evaluation of the polynomial at v.\n    \"\"\"\n\n    fv = poly.evaluate(v)\n    return fv",
      "metadata": {
        "tags": []
      },
      "execution_count": 7,
      "outputs": [],
      "id": "06097d45"
    },
    {
      "cell_type": "markdown",
      "source": "In addition, to accelarate the process, we include the parallelized_evaluation. This allows us to evaluate a polynomial at different points in a parallelized manner.",
      "metadata": {},
      "id": "60de5553"
    },
    {
      "cell_type": "code",
      "source": "def parallelized_evaluation(poly,V,npartitions = 8):\n\n    \"\"\"\n    Parameters:\n    \n    poly: custom_polynomial. Polynomial in the class custom_polynomial.    \n    V: list. Points at which the polynomial is evaluated.\n    npartitions: . Number of partitions to be used.\n    \n    Output:\n    \n    fV: list. Evaluations of the polynomial at each element of V.\n    \"\"\"\n    \n    df = pd.DataFrame(V)\n    df = dd.from_pandas(df,npartitions = npartitions)\n    \n    fV = df.apply(lambda row: evaluate_pol(poly,row), axis = 1, meta = (None, 'float64'))\n    \n    fV = fV.compute()\n    \n    return fV.values",
      "metadata": {},
      "execution_count": 8,
      "outputs": [],
      "id": "4081310d"
    },
    {
      "cell_type": "markdown",
      "source": "##### Example",
      "metadata": {},
      "id": "15d24dac"
    },
    {
      "cell_type": "code",
      "source": "deg = 4\nr = 4\nvector = [1,2,3]\nconst = 7\n\npoly = custom_polynomial(const,vector,deg)\n\npoly.expr",
      "metadata": {},
      "execution_count": 9,
      "outputs": [
        {
          "execution_count": 9,
          "output_type": "execute_result",
          "data": {
            "text/latex": [
              "$\\displaystyle 7 \\left(x_{1} + 2 x_{2} + 3 x_{3}\\right)^{4}$"
            ],
            "text/plain": [
              "7*(x1 + 2*x2 + 3*x3)**4"
            ]
          },
          "metadata": {}
        }
      ],
      "id": "e8508223"
    },
    {
      "cell_type": "code",
      "source": "X, WX = spherical_quadrature(3,4)\nlrnorm = poly.Lr_norm(X, WX, r)\n\nlrnorm",
      "metadata": {},
      "execution_count": 10,
      "outputs": [
        {
          "execution_count": 10,
          "output_type": "execute_result",
          "data": {
            "text/plain": [
              "697.5393316313748"
            ]
          },
          "metadata": {}
        }
      ],
      "id": "aebacbf5"
    },
    {
      "cell_type": "markdown",
      "source": "## Perturbed Symmetric Tensors\n\nWe create symmetric tensors as follows: we first form a low-rank input $\\sum\\limits_{i=1}^m c_i \\langle v_i,x \\rangle ^d$, then we perturb this input\nwith a high rank symmetric tensor to make it a high-rank tensor. In the end, we create high-rank symmetric tensors that have\n$\\epsilon$ distance to a low-rank input.",
      "metadata": {},
      "id": "9dd0e919"
    },
    {
      "cell_type": "code",
      "source": "def polynomial_sum(polynomial_list, eps):\n    \"\"\"\n    Parameter:\n    \n    polynomial_list: list. List of polynomials in the class custom_polynomial.\n    \n    eps: float. The epsilon perturbation to introduce.\n    \n    Output:\n    \n    output_poly: custom_polynomial. Polynomial resulting from the sum of all polynomials given in the list.\n    \"\"\"\n    \n    deg = polynomial_list[0].degree\n    variables = polynomial_list[0].variables\n    \n    output_poly = copy.copy(polynomial_list[0])\n    \n    output_expr = 0\n    for i in range(len(polynomial_list)):\n        output_expr += polynomial_list[i].expr\n    \n    aux_poly = eps*0.5*sum(variables[i]**2 for i in range(len(variables)))**(deg*0.5)\n    \n    output_poly.expr = output_expr + aux_poly\n    output_poly.f = lambdify(list(output_poly.variables),output_poly.expr)\n    \n    return output_poly",
      "metadata": {},
      "execution_count": 11,
      "outputs": [],
      "id": "ee80f136"
    },
    {
      "cell_type": "markdown",
      "source": "##### Example",
      "metadata": {},
      "id": "5c9798e4"
    },
    {
      "cell_type": "code",
      "source": "m= 2\nn = 3\ndeg = 2\nvectors = np.random.randn(m, n)\nvectors /= np.linalg.norm(vectors, axis=1)[:, None]\nconsts = np.random.randn(m)\n\npolynomial_list = [custom_polynomial(consts[i],vectors[i],deg) for i in range(m)]\n\npoly = polynomial_sum(polynomial_list, 0.1)\n\npoly.expr",
      "metadata": {},
      "execution_count": 12,
      "outputs": [
        {
          "execution_count": 12,
          "output_type": "execute_result",
          "data": {
            "text/latex": [
              "$\\displaystyle - 0.477995365510691 \\left(0.0758187359313211 x_{1} + x_{2} + 0.415177202076683 x_{3}\\right)^{2} + 0.121471220538655 \\left(0.751366977446341 x_{1} + 0.393801346558698 x_{2} - x_{3}\\right)^{2} + 0.05 \\left(x_{1}^{2} + x_{2}^{2} + x_{3}^{2}\\right)^{1.0}$"
            ],
            "text/plain": [
              "-0.477995365510691*(0.0758187359313211*x1 + x2 + 0.415177202076683*x3)**2 + 0.121471220538655*(0.751366977446341*x1 + 0.393801346558698*x2 - x3)**2 + 0.05*(x1**2 + x2**2 + x3**2)**1.0"
            ]
          },
          "metadata": {}
        }
      ],
      "id": "93f7b207"
    },
    {
      "cell_type": "markdown",
      "source": "## Finding $v \\in \\mathbb{S}^{n-1}$ such that $\\frac{1}{2}||f||_r \\leq |f(v)|$ for a symmetric tensor $f$",
      "metadata": {},
      "id": "f1db18ee"
    },
    {
      "cell_type": "markdown",
      "source": "We define a function which samples vectors on the sphere.",
      "metadata": {},
      "id": "6f37a423"
    },
    {
      "cell_type": "code",
      "source": "def sample_spherical(n, size):\n\n    \"\"\"\n    Parameters:\n    \n    n: int. Number of variables.\n    size: int. Number of points to sample.\n    \n    Output:\n    \n    V: list. Vector of points sampled on the (n-1)-dimensional sphere.\n    \"\"\"\n    \n    V = np.random.randn(size, n)\n    V /= np.linalg.norm(V, axis=1)[:, None]\n    return V",
      "metadata": {},
      "execution_count": 13,
      "outputs": [],
      "id": "a29ead6c"
    },
    {
      "cell_type": "markdown",
      "source": " Note that for reasonably large $n$, the sample size does not depend on $n$. The sample size increases with respect to $r$ in $L_r$-norm and with respect to degree exponentially. We determined the needed size for a high probability success in our paper, https://arxiv.org/pdf/2207.12529.pdf, below it is recorded.",
      "metadata": {},
      "id": "d403b0e4"
    },
    {
      "cell_type": "code",
      "source": "def sample_size(n, deg, r, accu):\n    \n    \"\"\"\n    Parameters:\n    \n    n: int. Number of variables.\n    deg: int. Degree of the polynomial. Must be an even number.\n    r: int. We need to specify here which L_r-norm we are using.\n    accu: float. Number between 0 and 1 determining the level of accuracy.\n    \n    Output:\n    \n    return: int. Size needed to achieve the condition with the given level of accuracy.\n    \"\"\"\n    \n    C = 2\n    t = -np.log(1-accu)\n    a = (C*r)**(deg/2)\n    b = (comb(r*deg + n - 1 , r*deg))**(1/(2*r))\n    alpha = np.minimum(a,b)\n    return math.ceil(t * (alpha)**(2*r))",
      "metadata": {},
      "execution_count": 14,
      "outputs": [],
      "id": "002fa54d"
    },
    {
      "cell_type": "markdown",
      "source": "We provide the function that verifies the desired condition holds for a vector. If after sampling the condition does not hold for any vector, the function samples again. This allows us to change the sample size as we wish and still have a certifiably correct computation. Below, max_size allows the user to pick the sample size. In this implementation we capped the number of tries to $10$ to avoid too many loops, which can be changed at will.\n\nNotice an input parameter is the $L_r$-norm of $f$. Since it does not change, we compute it in advance once and save ourselves from computing it everytime this function loops.\n\nIn addition to the above, we introduced an \"inner\" input. This determines how far the newly found vector is from the previous ones. For example, an inner of $0.8$ forces the inner product between the new vector and the previous ones to be at most $0.8$. We introduced this controlled since vectors close to the previous ones (that is, inner product close to one) did not provide an appreciable improvement on the error. Therefore, if the new vector is not far enough from the previous ones, the function finds a new one.",
      "metadata": {},
      "id": "424a0708"
    },
    {
      "cell_type": "code",
      "source": "def vec_finder(n, r, poly, lrnorm ,accu, max_size, inner, W, tries = 1):\n    \n    \"\"\"\n    Parameters:\n    \n    n: int. Number of variables.\n    r: int. We need to specify here which L_r-norm we are using.\n    poly: custom_polynomial. Polynomial in the class custom_polynomial. \n    lrnorm: float. L_r-norm of the given polynomial.\n    accu: float. Number between 0 and 1 determining the level of accuracy.\n    max_size: int. Number of points to sample.\n    inner: float. Number between 0 and 1. \n    W: list. List of vectors corresponding to the orthogonal polynomials.\n    tries: int. Auxiliary counter. Initial number of tries, set by default to start counting at 1.\n    \n    Outputs:\n    \n    v: list. Vector for which the inequality holds.\n    fv: list. Value of the polynomial evaluated at the vector for which the inequality holds.\n    q: custom_polynomial. Polynomial defined by the vector v, that is, <v,x>^d.\n    \"\"\"\n    \n    deg = poly.degree\n    V = sample_spherical(n, max_size)\n    \n    if W != []:\n        inner_product = np.absolute(np.matmul(V,np.array(W).T))\n        V = V[np.max(inner_product,axis = 1) < inner,:]\n        \n    \n    fV = parallelized_evaluation(poly,V)\n    \n    abs_fV = np.absolute(fV)\n    \n    max_position = np.argmax(abs_fV)\n    v = V[max_position]\n    fv = fV[max_position]\n    abs_fv = np.max(abs_fV)\n    \n    max_tries = 10\n    \n    if 0.5*lrnorm <= abs_fv:\n        q = custom_polynomial(1,v,deg)\n        return list(v), fv, q\n    else:\n        tries += 1\n        print(\"The vectors do not meet the requirement\")\n        if tries <= max_tries:\n            print(\"Starting the next try, tries remaining: {}\".format(max_tries - tries + 1))\n            vec_finder(n, r, poly, lrnorm ,accu, max_size, inner, W,tries)\n        else:\n            raise Exception(\"Maximum number of tries exceeded\")",
      "metadata": {},
      "execution_count": 15,
      "outputs": [],
      "id": "96e4f5b2"
    },
    {
      "cell_type": "markdown",
      "source": "## Orthogonal basis and orthogonal projection",
      "metadata": {},
      "id": "7b2e9670"
    },
    {
      "cell_type": "markdown",
      "source": "We define an $L_r$-norm for a general symmetric tensor. This is due to the fact that we will need to compute the $L_r$-norm of the difference between $f$ and its orthogonal projection onto a subspace.",
      "metadata": {},
      "id": "22413fb5"
    },
    {
      "cell_type": "code",
      "source": "def Lr_norm(X, WX, n, r, poly):\n\n    \"\"\"\n    Parameters:\n    \n    X: list. List of elements in X corresponding to the quadrature formula.\n    WX: list. List of elements in WX corresponding to the quadrature formula.\n    r: int. Point at which the polynomial is evaluated.\n    \n    Output:\n    \n    return: float. L_r-norm of the polynomial.\n    \"\"\"\n    \n    c = sphere_surface_area(n-1)\n    deg = poly.degree\n        \n    evaluations = parallelized_evaluation(poly,X)\n        \n    evaluations = np.array(evaluations)**r\n    \n    return ((1/c) * np.sum(WX*(evaluations)))**(1/r)",
      "metadata": {},
      "execution_count": 16,
      "outputs": [],
      "id": "f7ac6689"
    },
    {
      "cell_type": "markdown",
      "source": "Since we need the difference between two polynomials, we define such function.",
      "metadata": {},
      "id": "325e3af3"
    },
    {
      "cell_type": "code",
      "source": "def polynomial_difference(polynomial, new_expr):\n\n    \"\"\"\n    Parameters:\n    \n    polynomial: custom_polynomial. First polynomial.\n    new_expr: custom_polynomial. Second polynomial to be subtracted from the first one.\n    \n    Output:\n    \n    new_poly: custom_polynomial. Polynomial difference of the two polynomial above.\n    \"\"\"\n\n    new_poly = copy.copy(polynomial)\n    new_poly.expr -= new_expr\n    new_poly.f = lambdify(list(new_poly.variables),new_poly.expr)\n    \n    return new_poly",
      "metadata": {},
      "execution_count": 17,
      "outputs": [],
      "id": "304e98b5"
    },
    {
      "cell_type": "markdown",
      "source": "The add_vector function does the following:\n* Determines if the polynomial given by the found vector is orthogonal with respect to the previous ones.\n* If orthogonal, then it adds it to the set of orthogonal plynomials in $P_{n,d}$ and projects $f$ onto the subspace given by the set.\n* Computes the error. That is, the $L_r$-norm of the difference between $f$ and its orthogonal projection.",
      "metadata": {},
      "id": "83cb21a6"
    },
    {
      "cell_type": "code",
      "source": "def add_vector(W,fW,Q,X,WX,n,r,poly,lrnorm,max_size,inner,accu):\n\n    \"\"\"\n    Parameters:\n    \n    W: list. List of vectors for which their related polynomials are orthogonal.\n    fW: list. List of evaluation of f at the vectors from W.\n    Q: list. List of orthogonal polynomials given by the vectors in W.\n    X: list. List of elements in X corresponding to the cubature formula.\n    WX: list. List of elements in WX corresponding to the cubature formula.\n    n: int. Number of variables.\n    r: int. We need to specify here which L_r-norm we are using.\n    poly: custom_polynomial. Polynomial in the class custom_polynomial. \n    lrnorm: float. L_r-norm of the given polynomial.\n    max_size: int. Number of points to sample.\n    inner: float. Number between 0 and 1.  \n    accu: float. Number between 0 and 1 determining the level of accuracy.\n    \n    Outputs:\n    \n    W: list. List of vectors for which their related polynomials are orthogonal, including the last found.\n    fW: list. List of evaluation of f at the vectors from W, including the last found.\n    Q: list. List of orthogonal polynomials given by the vectors in W, including the last found.\n    error: float. L_r-norm of the difference between f and its projection.\n    projection_poly: custom_polynomial. Polynomial resulting from the projection of f onto the subspace.\n    \"\"\"\n\n    v, fv, q = vec_finder(n, r, poly, lrnorm ,accu, max_size, inner, W)\n    deg = poly.degree\n    new_W = W + [v]\n    #W.append(v)\n    matrix = np.power((np.matrix(new_W)@np.matrix(new_W).T),deg)\n    rank = np.linalg.matrix_rank(matrix)\n    if rank != len(matrix):\n        print(\"The matrix is singular\")\n        print(\"Computing a new vector\")\n        add_vector(W,fW,Q,X,WX,n,r,poly,lrnorm,max_size,inner,accu)\n    else:\n        W.append(v)\n        fW.append(fv)\n        Q.append(q)\n        inv_matrix = np.linalg.inv(matrix)\n        B = np.array((inv_matrix*(np.matrix(fW).reshape(len(matrix),1)))).ravel()\n        projection_poly = 0\n        for i in range(len(Q)):\n            projection_poly += B[i]* Q[i].expr \n            \n        poly_diff = polynomial_difference(poly, projection_poly)\n            \n        error = Lr_norm(X, WX, n, r, poly_diff)\n        \n        return W, fW, Q, error, projection_poly      ",
      "metadata": {},
      "execution_count": 18,
      "outputs": [],
      "id": "583297b4"
    },
    {
      "cell_type": "markdown",
      "source": "## Greedy Aproximation via Energy Increment",
      "metadata": {},
      "id": "0b58956b"
    },
    {
      "cell_type": "code",
      "source": "def greedy_approximation(n,r,poly,accu,inner,eps,tol=1e-03, max_iter = 1000):\n\n    \"\"\"\n    Parameters:\n    \n    n: int. Number of variables.\n    r: int. We need to specify here which L_r-norm we are using.\n    poly: custom_polynomial. Polynomial in the class custom_polynomial. \n    accu: float. Number between 0 and 1 determining the level of accuracy.\n    inner: float. Number between 0 and 1.\n    eps: float. The improvement of the error we want at each iteration to keep the found vector.\n    tol: float. Tolerance level to stop the process. Set by default to 1e-06.\n    max_iter: int. Maximum number of iterations we want to compute. Set by default to 1,000.\n    \n    Outputs:\n    \n    projection_poly: custom_polynomial. Polynomial resulting from the projection of f onto the subspace.\n    \"\"\"\n    \n    deg = poly.degree\n    max_vec = comb(n+deg-1 , deg)\n    W = []\n    fW = []\n    Q = []\n    \n    print(\"Computing the Spherical Quadrature\")\n    init = time.time()\n    X,WX = spherical_quadrature(n,deg)\n    end = time.time()\n    print(\"Elapsed time for the Spherical Quadrature: {} seconds\".format(round(end - init)))\n\n    lrnorm = poly.Lr_norm(X,WX,r)\n    \n    size = sample_size(n, deg, r, accu)\n    # We cap here the sample size to 100,000 to be able to run the code in our computer.\n    max_size = min(size,100000)\n    error = np.inf\n    print(\"The global threshold is: {}\".format(eps))\n    print(\"The size of a basis for this space is: {}\".format(max_vec))\n    iteration = 1\n    while error >= eps:\n        init = time.time()\n        old_error = error\n        W, fW, Q, error, projection_poly = add_vector(W,fW,Q,X,WX,n,r,poly,lrnorm,max_size,inner,accu)\n        difference = old_error - error\n        #print(\"The error is now: {}\".format(error))\n        #print(\"The difference between this iteration and the last one is: {}\".format(difference))\n        end = time.time()\n        print(\"Elapsed time of the loop: {} seconds\".format(end-init))\n        \n        if difference <= tol:\n            error = old_error\n            W = W[:-1]\n            fW = fW[:-1]\n            Q = Q[:-1]\n            iteration +=1\n            if iteration >= max_iter:\n                print(\"Maximum number of iteration reached\")\n                break\n        else:\n            print(\"Vector found, {}\".format(W[-1]))\n            print(\"The error is now: {}\".format(error))\n            print(\"The difference between this iteration and the last one is: {}\".format(difference))\n            print(\"The number of vectors is {}\".format(len(W)))\n        \n        if len(W) >= max_vec:\n            print(\"Number of iteration exceeded\")\n            break\n        \n\n    return projection_poly    ",
      "metadata": {},
      "execution_count": 19,
      "outputs": [],
      "id": "fb12219e"
    },
    {
      "cell_type": "markdown",
      "source": "##### Example",
      "metadata": {},
      "id": "d34215df"
    },
    {
      "cell_type": "code",
      "source": "N = 10\nn = 4\ndeg = 4\nr = 4\naccu = 0.95\ninner = 0.8\neps = 0.3\n\nvectors = sample_spherical(n,N)\nconsts = np.random.randn(N)\npolynomial_list = [custom_polynomial(consts[i],vectors[i],deg) for i in range(N)]\npoly = polynomial_sum(polynomial_list, eps)",
      "metadata": {},
      "execution_count": 20,
      "outputs": [],
      "id": "720841d9"
    },
    {
      "cell_type": "code",
      "source": "%%time\nprojection_poly = greedy_approximation(n,r,poly,accu,inner,eps)",
      "metadata": {
        "scrolled": true
      },
      "execution_count": 21,
      "outputs": [
        {
          "name": "stdout",
          "output_type": "stream",
          "text": "Computing the Spherical Quadrature\n\nElapsed time for the Spherical Quadrature: 0 seconds\n\nThe global threshold is: 0.3\n\nThe size of a basis for this space is: 35\n\nElapsed time of the loop: 0.12776541709899902 seconds\n\nVector found, [0.5028181796192638, 0.6413789631864076, 0.45430651788724785, -0.3597394774436946]\n\nThe error is now: 0.7317681134900962\n\nThe difference between this iteration and the last one is: inf\n\nThe number of vectors is 1\n\nElapsed time of the loop: 0.12867999076843262 seconds\n\nVector found, [-0.4690399929139189, -0.13294094019107944, 0.45611823031735255, -0.7445027544882487]\n\nThe error is now: 0.41628790535750354\n\nThe difference between this iteration and the last one is: 0.31548020813259264\n\nThe number of vectors is 2\n\nElapsed time of the loop: 0.11982250213623047 seconds\n\nVector found, [-0.13442939687709798, -0.6787059281543715, -0.06535452256887671, 0.7190380982417878]\n\nThe error is now: 0.3683100830400754\n\nThe difference between this iteration and the last one is: 0.04797782231742814\n\nThe number of vectors is 3\n\nElapsed time of the loop: 0.11267805099487305 seconds\n\nElapsed time of the loop: 0.11599206924438477 seconds\n\nElapsed time of the loop: 0.11852526664733887 seconds\n\nVector found, [-0.03791012661329168, -0.24873964184063954, -0.6233967859791819, 0.740316054201164]\n\nThe error is now: 0.365806255960275\n\nThe difference between this iteration and the last one is: 0.0025038270798004025\n\nThe number of vectors is 4\n\nElapsed time of the loop: 0.12656593322753906 seconds\n\nVector found, [-0.37237639371042724, 0.28412225296377797, -0.048516808311084826, -0.8821884640422981]\n\nThe error is now: 0.34981267670850213\n\nThe difference between this iteration and the last one is: 0.01599357925177286\n\nThe number of vectors is 5\n\nElapsed time of the loop: 0.11347031593322754 seconds\n\nElapsed time of the loop: 0.12450838088989258 seconds\n\nElapsed time of the loop: 0.12944459915161133 seconds\n\nElapsed time of the loop: 0.12152743339538574 seconds\n\nElapsed time of the loop: 0.11553645133972168 seconds\n\nElapsed time of the loop: 0.12221312522888184 seconds\n\nElapsed time of the loop: 0.1174771785736084 seconds\n\nElapsed time of the loop: 0.12231230735778809 seconds\n\nElapsed time of the loop: 0.1327345371246338 seconds\n\nElapsed time of the loop: 0.11858820915222168 seconds\n\nElapsed time of the loop: 0.11289644241333008 seconds\n\nElapsed time of the loop: 0.1306896209716797 seconds\n\nElapsed time of the loop: 0.13202667236328125 seconds\n\nElapsed time of the loop: 0.12807250022888184 seconds\n\nElapsed time of the loop: 0.1195213794708252 seconds\n\nElapsed time of the loop: 0.11577582359313965 seconds\n\nElapsed time of the loop: 0.11870861053466797 seconds\n\nElapsed time of the loop: 0.13141131401062012 seconds\n\nElapsed time of the loop: 0.12450718879699707 seconds\n\nElapsed time of the loop: 0.11573410034179688 seconds\n\nElapsed time of the loop: 0.1277458667755127 seconds\n\nElapsed time of the loop: 0.12416481971740723 seconds\n\nElapsed time of the loop: 0.12145662307739258 seconds\n\nElapsed time of the loop: 0.12615060806274414 seconds\n\nElapsed time of the loop: 0.13266968727111816 seconds\n\nElapsed time of the loop: 0.12720990180969238 seconds\n\nElapsed time of the loop: 0.12502455711364746 seconds\n\nElapsed time of the loop: 0.12480473518371582 seconds\n\nElapsed time of the loop: 0.1407299041748047 seconds\n\nElapsed time of the loop: 0.127028226852417 seconds\n\nElapsed time of the loop: 0.12626981735229492 seconds\n\nElapsed time of the loop: 0.13773036003112793 seconds\n\nElapsed time of the loop: 0.13454747200012207 seconds\n\nElapsed time of the loop: 0.1341404914855957 seconds\n\nElapsed time of the loop: 0.13720464706420898 seconds\n\nElapsed time of the loop: 0.13239097595214844 seconds\n\nElapsed time of the loop: 0.12919306755065918 seconds\n\nElapsed time of the loop: 0.12992048263549805 seconds\n\nElapsed time of the loop: 0.21120357513427734 seconds\n\nElapsed time of the loop: 0.13061070442199707 seconds\n\nElapsed time of the loop: 0.12859439849853516 seconds\n\nElapsed time of the loop: 0.13405108451843262 seconds\n\nElapsed time of the loop: 0.13959431648254395 seconds\n\nElapsed time of the loop: 0.13198137283325195 seconds\n\nElapsed time of the loop: 0.13687539100646973 seconds\n\nElapsed time of the loop: 0.13956904411315918 seconds\n\nElapsed time of the loop: 0.14217066764831543 seconds\n\nElapsed time of the loop: 0.149399995803833 seconds\n\nElapsed time of the loop: 0.13555312156677246 seconds\n\nElapsed time of the loop: 0.1358175277709961 seconds\n\nElapsed time of the loop: 0.14355182647705078 seconds\n\nElapsed time of the loop: 0.14679765701293945 seconds\n\nElapsed time of the loop: 0.15105533599853516 seconds\n\nElapsed time of the loop: 0.1540987491607666 seconds\n\nElapsed time of the loop: 0.13558745384216309 seconds\n\nElapsed time of the loop: 0.1303086280822754 seconds\n\nElapsed time of the loop: 0.12703371047973633 seconds\n\nElapsed time of the loop: 0.1349198818206787 seconds\n\nElapsed time of the loop: 0.12552905082702637 seconds\n\nElapsed time of the loop: 0.13561630249023438 seconds\n\nElapsed time of the loop: 0.13648676872253418 seconds\n\nElapsed time of the loop: 0.1361374855041504 seconds\n\nElapsed time of the loop: 0.11931467056274414 seconds\n\nElapsed time of the loop: 0.12756752967834473 seconds\n\nElapsed time of the loop: 0.12519001960754395 seconds\n\nElapsed time of the loop: 0.125291109085083 seconds\n\nElapsed time of the loop: 0.13392233848571777 seconds\n\nElapsed time of the loop: 0.12524938583374023 seconds\n\nElapsed time of the loop: 0.1290721893310547 seconds\n\nElapsed time of the loop: 0.13771700859069824 seconds\n\nElapsed time of the loop: 0.12950587272644043 seconds\n\nElapsed time of the loop: 0.12491798400878906 seconds\n\nElapsed time of the loop: 0.1362004280090332 seconds\n\nElapsed time of the loop: 0.12771224975585938 seconds\n\nElapsed time of the loop: 0.13306427001953125 seconds\n\nElapsed time of the loop: 0.12453603744506836 seconds\n\nElapsed time of the loop: 0.11885285377502441 seconds\n\nElapsed time of the loop: 0.13391590118408203 seconds\n\nElapsed time of the loop: 0.1386101245880127 seconds\n\nElapsed time of the loop: 0.13233017921447754 seconds\n\nElapsed time of the loop: 0.1310741901397705 seconds\n\nElapsed time of the loop: 0.1331496238708496 seconds\n\nElapsed time of the loop: 0.1184227466583252 seconds\n\nElapsed time of the loop: 0.13810420036315918 seconds\n\nElapsed time of the loop: 0.13614892959594727 seconds\n\nElapsed time of the loop: 0.13451004028320312 seconds\n\nElapsed time of the loop: 0.1376192569732666 seconds\n\nElapsed time of the loop: 0.13525700569152832 seconds\n\nElapsed time of the loop: 0.13122129440307617 seconds\n\nElapsed time of the loop: 0.13202595710754395 seconds\n\nElapsed time of the loop: 0.13096308708190918 seconds\n\nElapsed time of the loop: 0.14077019691467285 seconds\n\nElapsed time of the loop: 0.1278231143951416 seconds\n\nElapsed time of the loop: 0.1369001865386963 seconds\n\nElapsed time of the loop: 0.14019083976745605 seconds\n\nElapsed time of the loop: 0.13587069511413574 seconds\n\nElapsed time of the loop: 0.14034485816955566 seconds\n\nElapsed time of the loop: 0.1334688663482666 seconds\n\nElapsed time of the loop: 0.13633275032043457 seconds\n\nElapsed time of the loop: 0.13450336456298828 seconds\n\nElapsed time of the loop: 0.12819933891296387 seconds\n\nElapsed time of the loop: 0.1365048885345459 seconds\n\nElapsed time of the loop: 0.13143706321716309 seconds\n\nElapsed time of the loop: 0.13687753677368164 seconds\n\nElapsed time of the loop: 0.13823342323303223 seconds\n\nElapsed time of the loop: 0.12635016441345215 seconds\n\nElapsed time of the loop: 0.1222081184387207 seconds\n\nElapsed time of the loop: 0.1255335807800293 seconds\n\nElapsed time of the loop: 0.13205456733703613 seconds\n\nElapsed time of the loop: 0.1306922435760498 seconds\n\nElapsed time of the loop: 0.13439607620239258 seconds\n\nElapsed time of the loop: 0.13595795631408691 seconds\n\nElapsed time of the loop: 0.13615727424621582 seconds\n\nElapsed time of the loop: 0.13538455963134766 seconds\n\nElapsed time of the loop: 0.12891030311584473 seconds\n\nElapsed time of the loop: 0.14235973358154297 seconds\n\nElapsed time of the loop: 0.13181662559509277 seconds\n\nElapsed time of the loop: 0.13557910919189453 seconds\n\nElapsed time of the loop: 0.1399393081665039 seconds\n\nElapsed time of the loop: 0.1301712989807129 seconds\n\nElapsed time of the loop: 0.13548946380615234 seconds\n\nElapsed time of the loop: 0.1381828784942627 seconds\nElapsed time of the loop: 0.14125442504882812 seconds\n\nElapsed time of the loop: 0.13781213760375977 seconds\n\nElapsed time of the loop: 0.13614773750305176 seconds\n\nElapsed time of the loop: 0.13169431686401367 seconds\n\nElapsed time of the loop: 0.13795018196105957 seconds\n\nElapsed time of the loop: 0.14121007919311523 seconds\n\nElapsed time of the loop: 0.14164972305297852 seconds\n\nElapsed time of the loop: 0.13096189498901367 seconds\n\nElapsed time of the loop: 0.13497328758239746 seconds\n\nElapsed time of the loop: 0.13662123680114746 seconds\n\nElapsed time of the loop: 0.1297283172607422 seconds\n\nElapsed time of the loop: 0.13152718544006348 seconds\n\nElapsed time of the loop: 0.1376206874847412 seconds\n\nElapsed time of the loop: 0.13653326034545898 seconds\n\nElapsed time of the loop: 0.13103055953979492 seconds\n\nElapsed time of the loop: 0.1300048828125 seconds\n\nElapsed time of the loop: 0.13389945030212402 seconds\n\nElapsed time of the loop: 0.13587164878845215 seconds\n\nElapsed time of the loop: 0.14229798316955566 seconds\n\nElapsed time of the loop: 0.14539623260498047 seconds\n\nElapsed time of the loop: 0.13910150527954102 seconds\n\nElapsed time of the loop: 0.13475990295410156 seconds\n\nElapsed time of the loop: 0.14166903495788574 seconds\n\nElapsed time of the loop: 0.1225898265838623 seconds\n\nElapsed time of the loop: 0.1354997158050537 seconds\n\nElapsed time of the loop: 0.1318962574005127 seconds\n\nElapsed time of the loop: 0.13311481475830078 seconds\n\nElapsed time of the loop: 0.13546514511108398 seconds\n\nElapsed time of the loop: 0.1319899559020996 seconds\n\nElapsed time of the loop: 0.1298692226409912 seconds\n\nElapsed time of the loop: 0.220245361328125 seconds\n\nElapsed time of the loop: 0.1278529167175293 seconds\n\nElapsed time of the loop: 0.13480353355407715 seconds\n\nElapsed time of the loop: 0.13817310333251953 seconds\n\nElapsed time of the loop: 0.13505840301513672 seconds\n\nElapsed time of the loop: 0.14398646354675293 seconds\n\nElapsed time of the loop: 0.14320969581604004 seconds\n\nElapsed time of the loop: 0.12932682037353516 seconds\n\nElapsed time of the loop: 0.14418840408325195 seconds\n\nElapsed time of the loop: 0.1318340301513672 seconds\n\nElapsed time of the loop: 0.13609623908996582 seconds\n\nElapsed time of the loop: 0.14929842948913574 seconds\n\nElapsed time of the loop: 0.15021944046020508 seconds\n\nElapsed time of the loop: 0.15143465995788574 seconds\n\nElapsed time of the loop: 0.16106939315795898 seconds\n\nElapsed time of the loop: 0.1411724090576172 seconds\n\nElapsed time of the loop: 0.13932371139526367 seconds\n\nElapsed time of the loop: 0.1448197364807129 seconds\n\nElapsed time of the loop: 0.13055968284606934 seconds\n\nElapsed time of the loop: 0.14828252792358398 seconds\n\nElapsed time of the loop: 0.18559622764587402 seconds\n\nElapsed time of the loop: 0.128464937210083 seconds\n\nElapsed time of the loop: 0.13628816604614258 seconds\n\nElapsed time of the loop: 0.1254103183746338 seconds\n\nElapsed time of the loop: 0.1301743984222412 seconds\n\nElapsed time of the loop: 0.1271350383758545 seconds\n\nElapsed time of the loop: 0.1189723014831543 seconds\n\nElapsed time of the loop: 0.1376948356628418 seconds\n\nElapsed time of the loop: 0.13927793502807617 seconds\n\nElapsed time of the loop: 0.13802242279052734 seconds\n\nElapsed time of the loop: 0.12853455543518066 seconds\n\nElapsed time of the loop: 0.1322033405303955 seconds\n\nElapsed time of the loop: 0.13272619247436523 seconds\n\nElapsed time of the loop: 0.12100529670715332 seconds\n\nElapsed time of the loop: 0.12709951400756836 seconds\n\nElapsed time of the loop: 0.13397812843322754 seconds\n\nElapsed time of the loop: 0.13300251960754395 seconds\n\nElapsed time of the loop: 0.13328909873962402 seconds\n\nElapsed time of the loop: 0.13141989707946777 seconds\n\nElapsed time of the loop: 0.1160118579864502 seconds\n\nElapsed time of the loop: 0.1407017707824707 seconds\n\nElapsed time of the loop: 0.16529154777526855 seconds\n\nElapsed time of the loop: 0.16246294975280762 seconds\n\nElapsed time of the loop: 0.142578125 seconds\n\nElapsed time of the loop: 0.13951611518859863 seconds\n\nElapsed time of the loop: 0.14120101928710938 seconds\n\nElapsed time of the loop: 0.1443171501159668 seconds\n\nElapsed time of the loop: 0.15907001495361328 seconds\n\nElapsed time of the loop: 0.13202309608459473 seconds\n\nElapsed time of the loop: 0.13905715942382812 seconds\n\nElapsed time of the loop: 0.13791370391845703 seconds\n\nElapsed time of the loop: 0.13289737701416016 seconds\n\nElapsed time of the loop: 0.13906121253967285 seconds\n\nElapsed time of the loop: 0.1452319622039795 seconds\n\nElapsed time of the loop: 0.1353309154510498 seconds\n\nElapsed time of the loop: 0.14011335372924805 seconds\n\nElapsed time of the loop: 0.1410677433013916 seconds\n\nElapsed time of the loop: 0.16509270668029785 seconds\n\nElapsed time of the loop: 0.13532376289367676 seconds\n\nElapsed time of the loop: 0.13208723068237305 seconds\n\nElapsed time of the loop: 0.13924336433410645 seconds\n\nElapsed time of the loop: 0.12612080574035645 seconds\n\nElapsed time of the loop: 0.1294560432434082 seconds\n\nElapsed time of the loop: 0.1436774730682373 seconds\n\nElapsed time of the loop: 0.1679377555847168 seconds\n\nElapsed time of the loop: 0.14383530616760254 seconds\n\nElapsed time of the loop: 0.1387646198272705 seconds\n\nElapsed time of the loop: 0.13951897621154785 seconds\n\nElapsed time of the loop: 0.13340401649475098 seconds\n\nElapsed time of the loop: 0.14325976371765137 seconds\n\nElapsed time of the loop: 0.13601255416870117 seconds\n\nElapsed time of the loop: 0.14351224899291992 seconds\n\nElapsed time of the loop: 0.1353292465209961 seconds\n\nElapsed time of the loop: 0.13830876350402832 seconds\n\nElapsed time of the loop: 0.14280915260314941 seconds\n\nElapsed time of the loop: 0.14116597175598145 seconds\n\nElapsed time of the loop: 0.1477363109588623 seconds\n\nElapsed time of the loop: 0.13836312294006348 seconds\n\nElapsed time of the loop: 0.13181209564208984 seconds\n\nElapsed time of the loop: 0.12773346900939941 seconds\n\nElapsed time of the loop: 0.12657475471496582 seconds\n\nElapsed time of the loop: 0.14108514785766602 seconds\n\nElapsed time of the loop: 0.13776278495788574 seconds\n\nElapsed time of the loop: 0.12459039688110352 seconds\n\nElapsed time of the loop: 0.13715124130249023 seconds\n\nElapsed time of the loop: 0.13035035133361816 seconds\n\nElapsed time of the loop: 0.13530349731445312 seconds\n\nElapsed time of the loop: 0.13992834091186523 seconds\n\nElapsed time of the loop: 0.14629101753234863 seconds\n\nElapsed time of the loop: 0.1381545066833496 seconds\n\nElapsed time of the loop: 0.13578200340270996 seconds\n\nElapsed time of the loop: 0.13014698028564453 seconds\n\nElapsed time of the loop: 0.13153481483459473 seconds\n\nElapsed time of the loop: 0.13857245445251465 seconds\n\nElapsed time of the loop: 0.13511443138122559 seconds\n\nElapsed time of the loop: 0.12456870079040527 seconds\n\nElapsed time of the loop: 0.14058876037597656 seconds\n\nElapsed time of the loop: 0.1341090202331543 seconds\n\nElapsed time of the loop: 0.1385633945465088 seconds\n\nElapsed time of the loop: 0.13282465934753418 seconds\n\nElapsed time of the loop: 0.1175374984741211 seconds\n\nElapsed time of the loop: 0.12703466415405273 seconds\n\nElapsed time of the loop: 0.12878656387329102 seconds\n\nElapsed time of the loop: 0.12628459930419922 seconds\n\nElapsed time of the loop: 0.12941718101501465 seconds\n\nElapsed time of the loop: 0.13401174545288086 seconds\n\nElapsed time of the loop: 0.14667487144470215 seconds\n\nElapsed time of the loop: 0.15542197227478027 seconds\n\nElapsed time of the loop: 0.14889860153198242 seconds\n\nElapsed time of the loop: 0.14498019218444824 seconds\n\nElapsed time of the loop: 0.14665746688842773 seconds\n\nElapsed time of the loop: 0.13828802108764648 seconds\n\nElapsed time of the loop: 0.13966608047485352 seconds\n\nElapsed time of the loop: 0.13002967834472656 seconds\n\nElapsed time of the loop: 0.13709139823913574 seconds\n\nElapsed time of the loop: 0.1466505527496338 seconds\n\nElapsed time of the loop: 0.13845324516296387 seconds\n\nElapsed time of the loop: 0.1357102394104004 seconds\n\nElapsed time of the loop: 0.13071560859680176 seconds\n\nElapsed time of the loop: 0.11959600448608398 seconds\n\nElapsed time of the loop: 0.12588858604431152 seconds\n\nElapsed time of the loop: 0.13596391677856445 seconds\n\nElapsed time of the loop: 0.13318991661071777 seconds\n\nElapsed time of the loop: 0.12680792808532715 seconds\nElapsed time of the loop: 0.1424093246459961 seconds\n\nElapsed time of the loop: 0.133742094039917 seconds\n\nElapsed time of the loop: 0.13621830940246582 seconds\n\nElapsed time of the loop: 0.14951133728027344 seconds\n\nElapsed time of the loop: 0.15633106231689453 seconds\n\nElapsed time of the loop: 0.14249086380004883 seconds\n\nElapsed time of the loop: 0.2531113624572754 seconds\n\nElapsed time of the loop: 0.15157222747802734 seconds\n\nElapsed time of the loop: 0.14710664749145508 seconds\n\nElapsed time of the loop: 0.1372230052947998 seconds\n\nElapsed time of the loop: 0.13811612129211426 seconds\n\nElapsed time of the loop: 0.14041352272033691 seconds\n\nElapsed time of the loop: 0.14525628089904785 seconds\n\nElapsed time of the loop: 0.13058996200561523 seconds\n\nElapsed time of the loop: 0.14454364776611328 seconds\n\nElapsed time of the loop: 0.11659979820251465 seconds\n\nElapsed time of the loop: 0.13633179664611816 seconds\n\nElapsed time of the loop: 0.1371910572052002 seconds\n\nElapsed time of the loop: 0.14188551902770996 seconds\n\nElapsed time of the loop: 0.12273240089416504 seconds\n\nElapsed time of the loop: 0.135911226272583 seconds\n\nElapsed time of the loop: 0.13157963752746582 seconds\n\nElapsed time of the loop: 0.1248772144317627 seconds\n\nElapsed time of the loop: 0.13285517692565918 seconds\n\nElapsed time of the loop: 0.12605905532836914 seconds\n\nElapsed time of the loop: 0.13105320930480957 seconds\n\nElapsed time of the loop: 0.14737153053283691 seconds\n\nElapsed time of the loop: 0.13714075088500977 seconds\n\nElapsed time of the loop: 0.1442878246307373 seconds\n\nElapsed time of the loop: 0.13814830780029297 seconds\n\nElapsed time of the loop: 0.1319115161895752 seconds\n\nElapsed time of the loop: 0.13105106353759766 seconds\n\nElapsed time of the loop: 0.12545275688171387 seconds\n\nElapsed time of the loop: 0.13109493255615234 seconds\n\nElapsed time of the loop: 0.13347601890563965 seconds\n\nElapsed time of the loop: 0.14190340042114258 seconds\n\nElapsed time of the loop: 0.14107537269592285 seconds\n\nElapsed time of the loop: 0.1324155330657959 seconds\n\nElapsed time of the loop: 0.12421369552612305 seconds\n\nElapsed time of the loop: 0.13209247589111328 seconds\n\nElapsed time of the loop: 0.11977148056030273 seconds\n\nElapsed time of the loop: 0.12583160400390625 seconds\n\nElapsed time of the loop: 0.12706232070922852 seconds\n\nElapsed time of the loop: 0.13760709762573242 seconds\n\nElapsed time of the loop: 0.13712167739868164 seconds\n\nElapsed time of the loop: 0.13594317436218262 seconds\n\nElapsed time of the loop: 0.14009594917297363 seconds\n\nElapsed time of the loop: 0.1328892707824707 seconds\n\nElapsed time of the loop: 0.13724756240844727 seconds\n\nElapsed time of the loop: 0.13167762756347656 seconds\n\nElapsed time of the loop: 0.1404104232788086 seconds\n\nElapsed time of the loop: 0.14673733711242676 seconds\n\nElapsed time of the loop: 0.13122153282165527 seconds\n\nElapsed time of the loop: 0.13982892036437988 seconds\n\nElapsed time of the loop: 0.1269679069519043 seconds\n\nElapsed time of the loop: 0.13625597953796387 seconds\n\nElapsed time of the loop: 0.1418473720550537 seconds\n\nElapsed time of the loop: 0.12847900390625 seconds\n\nElapsed time of the loop: 0.12665247917175293 seconds\n\nElapsed time of the loop: 0.14003515243530273 seconds\n\nElapsed time of the loop: 0.12633728981018066 seconds\n\nElapsed time of the loop: 0.13536834716796875 seconds\n\nElapsed time of the loop: 0.13315773010253906 seconds\n\nElapsed time of the loop: 0.14311575889587402 seconds\n\nElapsed time of the loop: 0.13515877723693848 seconds\n\nElapsed time of the loop: 0.14127588272094727 seconds\n\nElapsed time of the loop: 0.14023542404174805 seconds\n\nElapsed time of the loop: 0.1378309726715088 seconds\n\nElapsed time of the loop: 0.1499192714691162 seconds\n\nElapsed time of the loop: 0.14000248908996582 seconds\n\nElapsed time of the loop: 0.14289546012878418 seconds\n\nElapsed time of the loop: 0.1372382640838623 seconds\n\nElapsed time of the loop: 0.14939427375793457 seconds\n\nElapsed time of the loop: 0.14179658889770508 seconds\n\nElapsed time of the loop: 0.14462041854858398 seconds\n\nElapsed time of the loop: 0.135908842086792 seconds\n\nElapsed time of the loop: 0.1315631866455078 seconds\n\nElapsed time of the loop: 0.14126276969909668 seconds\n\nElapsed time of the loop: 0.1387326717376709 seconds\n\nElapsed time of the loop: 0.13921809196472168 seconds\n\nElapsed time of the loop: 0.143296480178833 seconds\n\nElapsed time of the loop: 0.12192440032958984 seconds\n\nElapsed time of the loop: 0.13545560836791992 seconds\n\nElapsed time of the loop: 0.13749361038208008 seconds\n\nElapsed time of the loop: 0.1390972137451172 seconds\n\nElapsed time of the loop: 0.1363084316253662 seconds\n\nElapsed time of the loop: 0.14205002784729004 seconds\n\nElapsed time of the loop: 0.1292884349822998 seconds\n\nElapsed time of the loop: 0.12904858589172363 seconds\n\nElapsed time of the loop: 0.13820719718933105 seconds\n\nElapsed time of the loop: 0.12926125526428223 seconds\n\nElapsed time of the loop: 0.1329345703125 seconds\n\nElapsed time of the loop: 0.14493870735168457 seconds\n\nElapsed time of the loop: 0.13688135147094727 seconds\n\nElapsed time of the loop: 0.14303278923034668 seconds\n\nElapsed time of the loop: 0.1392209529876709 seconds\n\nElapsed time of the loop: 0.12809205055236816 seconds\n\nElapsed time of the loop: 0.13312435150146484 seconds\n\nElapsed time of the loop: 0.1330881118774414 seconds\n\nElapsed time of the loop: 0.13460493087768555 seconds\n\nElapsed time of the loop: 0.13904118537902832 seconds\n\nElapsed time of the loop: 0.13250112533569336 seconds\n\nElapsed time of the loop: 0.12961411476135254 seconds\n\nElapsed time of the loop: 0.14495849609375 seconds\n\nElapsed time of the loop: 0.13005900382995605 seconds\n\nElapsed time of the loop: 0.13057994842529297 seconds\n\nElapsed time of the loop: 0.13984060287475586 seconds\n\nElapsed time of the loop: 0.13993120193481445 seconds\n\nElapsed time of the loop: 0.13093256950378418 seconds\n\nElapsed time of the loop: 0.1432809829711914 seconds\n\nElapsed time of the loop: 0.13940739631652832 seconds\n\nElapsed time of the loop: 0.1359236240386963 seconds\n\nElapsed time of the loop: 0.13089632987976074 seconds\n\nElapsed time of the loop: 0.1249077320098877 seconds\n\nElapsed time of the loop: 0.13980388641357422 seconds\n\nElapsed time of the loop: 0.14173531532287598 seconds\n\nElapsed time of the loop: 0.14291143417358398 seconds\n\nElapsed time of the loop: 0.13335871696472168 seconds\n\nElapsed time of the loop: 0.1351029872894287 seconds\n\nElapsed time of the loop: 0.1493990421295166 seconds\n\nElapsed time of the loop: 0.15625882148742676 seconds\n\nElapsed time of the loop: 0.15647506713867188 seconds\n\nElapsed time of the loop: 0.14334869384765625 seconds\n\nElapsed time of the loop: 0.1418323516845703 seconds\n\nElapsed time of the loop: 0.15700984001159668 seconds\n\nElapsed time of the loop: 0.1805272102355957 seconds\n\nElapsed time of the loop: 0.1307811737060547 seconds\n\nElapsed time of the loop: 0.1447906494140625 seconds\n\nElapsed time of the loop: 0.14601874351501465 seconds\n\nElapsed time of the loop: 0.1536717414855957 seconds\n\nElapsed time of the loop: 0.1372537612915039 seconds\n\nElapsed time of the loop: 0.13209819793701172 seconds\n\nElapsed time of the loop: 0.1371009349822998 seconds\n\nElapsed time of the loop: 0.14216375350952148 seconds\n\nElapsed time of the loop: 0.14368844032287598 seconds\n\nElapsed time of the loop: 0.12968873977661133 seconds\n\nElapsed time of the loop: 0.13544058799743652 seconds\n\nElapsed time of the loop: 0.13996577262878418 seconds\n\nElapsed time of the loop: 0.14478278160095215 seconds\n\nElapsed time of the loop: 0.2422471046447754 seconds\n\nElapsed time of the loop: 0.13538384437561035 seconds\n\nElapsed time of the loop: 0.13352513313293457 seconds\n\nElapsed time of the loop: 0.14313912391662598 seconds\n\nElapsed time of the loop: 0.13637876510620117 seconds\n\nElapsed time of the loop: 0.12247848510742188 seconds\n\nElapsed time of the loop: 0.13346147537231445 seconds\n\nElapsed time of the loop: 0.13378643989562988 seconds\n\nElapsed time of the loop: 0.13660430908203125 seconds\n\nElapsed time of the loop: 0.13912153244018555 seconds\n\nElapsed time of the loop: 0.13302135467529297 seconds\n\nElapsed time of the loop: 0.13671350479125977 seconds\n\nElapsed time of the loop: 0.12691783905029297 seconds\n\nElapsed time of the loop: 0.12839770317077637 seconds\nElapsed time of the loop: 0.1547532081604004 seconds\n\nElapsed time of the loop: 0.17137622833251953 seconds\n\nElapsed time of the loop: 0.147691011428833 seconds\n\nElapsed time of the loop: 0.12574005126953125 seconds\n\nElapsed time of the loop: 0.14180922508239746 seconds\n\nElapsed time of the loop: 0.12660861015319824 seconds\n\nElapsed time of the loop: 0.1361687183380127 seconds\n\nElapsed time of the loop: 0.13315176963806152 seconds\n\nElapsed time of the loop: 0.12453150749206543 seconds\n\nElapsed time of the loop: 0.12623906135559082 seconds\n\nElapsed time of the loop: 0.1302473545074463 seconds\n\nElapsed time of the loop: 0.13175463676452637 seconds\n\nElapsed time of the loop: 0.12251639366149902 seconds\n\nElapsed time of the loop: 0.13136649131774902 seconds\n\nElapsed time of the loop: 0.14535117149353027 seconds\n\nElapsed time of the loop: 0.14036941528320312 seconds\n\nElapsed time of the loop: 0.1291961669921875 seconds\n\nElapsed time of the loop: 0.13086891174316406 seconds\n\nElapsed time of the loop: 0.1295931339263916 seconds\n\nElapsed time of the loop: 0.1260387897491455 seconds\n\nElapsed time of the loop: 0.1412487030029297 seconds\n\nElapsed time of the loop: 0.12330055236816406 seconds\n\nElapsed time of the loop: 0.1381669044494629 seconds\n\nElapsed time of the loop: 0.12589740753173828 seconds\n\nElapsed time of the loop: 0.14585113525390625 seconds\n\nElapsed time of the loop: 0.12943029403686523 seconds\n\nElapsed time of the loop: 0.13040757179260254 seconds\n\nElapsed time of the loop: 0.13875865936279297 seconds\n\nElapsed time of the loop: 0.1447153091430664 seconds\n\nElapsed time of the loop: 0.13691926002502441 seconds\n\nElapsed time of the loop: 0.14507532119750977 seconds\n\nElapsed time of the loop: 0.1322464942932129 seconds\n\nElapsed time of the loop: 0.1437535285949707 seconds\n\nElapsed time of the loop: 0.1362898349761963 seconds\n\nElapsed time of the loop: 0.13604331016540527 seconds\n\nElapsed time of the loop: 0.1425642967224121 seconds\n\nElapsed time of the loop: 0.14085912704467773 seconds\n\nElapsed time of the loop: 0.14397835731506348 seconds\n\nElapsed time of the loop: 0.12693095207214355 seconds\n\nElapsed time of the loop: 0.13027215003967285 seconds\n\nElapsed time of the loop: 0.1340184211730957 seconds\n\nElapsed time of the loop: 0.14795303344726562 seconds\n\nElapsed time of the loop: 0.1405653953552246 seconds\n\nElapsed time of the loop: 0.15712928771972656 seconds\n\nElapsed time of the loop: 0.14576125144958496 seconds\n\nElapsed time of the loop: 0.14018511772155762 seconds\n\nElapsed time of the loop: 0.13609862327575684 seconds\n\nElapsed time of the loop: 0.13695716857910156 seconds\n\nElapsed time of the loop: 0.14913702011108398 seconds\n\nElapsed time of the loop: 0.126600980758667 seconds\n\nElapsed time of the loop: 0.13385653495788574 seconds\n\nElapsed time of the loop: 0.1410233974456787 seconds\n\nElapsed time of the loop: 0.13868045806884766 seconds\n\nElapsed time of the loop: 0.14346790313720703 seconds\n\nElapsed time of the loop: 0.13065767288208008 seconds\n\nElapsed time of the loop: 0.13978266716003418 seconds\n\nElapsed time of the loop: 0.13353705406188965 seconds\n\nElapsed time of the loop: 0.14056110382080078 seconds\n\nElapsed time of the loop: 0.14466214179992676 seconds\n\nElapsed time of the loop: 0.13927721977233887 seconds\n\nElapsed time of the loop: 0.13845109939575195 seconds\n\nElapsed time of the loop: 0.13239407539367676 seconds\n\nElapsed time of the loop: 0.13523006439208984 seconds\n\nElapsed time of the loop: 0.1391453742980957 seconds\n\nElapsed time of the loop: 0.13016557693481445 seconds\n\nElapsed time of the loop: 0.14341354370117188 seconds\n\nElapsed time of the loop: 0.12865614891052246 seconds\n\nElapsed time of the loop: 0.13979125022888184 seconds\n\nElapsed time of the loop: 0.13646745681762695 seconds\n\nElapsed time of the loop: 0.14406418800354004 seconds\n\nElapsed time of the loop: 0.13957428932189941 seconds\n\nElapsed time of the loop: 0.13777732849121094 seconds\n\nElapsed time of the loop: 0.13120484352111816 seconds\n\nElapsed time of the loop: 0.13341307640075684 seconds\n\nElapsed time of the loop: 0.1320943832397461 seconds\n\nElapsed time of the loop: 0.13804960250854492 seconds\n\nElapsed time of the loop: 0.14209437370300293 seconds\n\nElapsed time of the loop: 0.12602972984313965 seconds\n\nElapsed time of the loop: 0.13407611846923828 seconds\n\nElapsed time of the loop: 0.13419604301452637 seconds\n\nElapsed time of the loop: 0.13611459732055664 seconds\n\nElapsed time of the loop: 0.14294958114624023 seconds\n\nElapsed time of the loop: 0.15384316444396973 seconds\n\nElapsed time of the loop: 0.15604853630065918 seconds\n\nElapsed time of the loop: 0.15528035163879395 seconds\n\nElapsed time of the loop: 0.14162516593933105 seconds\n\nElapsed time of the loop: 0.14689397811889648 seconds\n\nElapsed time of the loop: 0.1428508758544922 seconds\n\nElapsed time of the loop: 0.15221738815307617 seconds\n\nElapsed time of the loop: 0.14136409759521484 seconds\n\nElapsed time of the loop: 0.1352376937866211 seconds\n\nElapsed time of the loop: 0.16063332557678223 seconds\n\nElapsed time of the loop: 0.14169955253601074 seconds\n\nElapsed time of the loop: 0.13907361030578613 seconds\n\nElapsed time of the loop: 0.14306998252868652 seconds\n\nElapsed time of the loop: 0.12868142127990723 seconds\n\nElapsed time of the loop: 0.139801025390625 seconds\n\nElapsed time of the loop: 0.1342918872833252 seconds\n\nElapsed time of the loop: 0.13925957679748535 seconds\n\nElapsed time of the loop: 0.13257789611816406 seconds\n\nElapsed time of the loop: 0.1267862319946289 seconds\n\nElapsed time of the loop: 0.14218473434448242 seconds\n\nElapsed time of the loop: 0.137343168258667 seconds\n\nElapsed time of the loop: 0.14293193817138672 seconds\n\nElapsed time of the loop: 0.1417698860168457 seconds\n\nElapsed time of the loop: 0.1357114315032959 seconds\n\nElapsed time of the loop: 0.13153767585754395 seconds\n\nElapsed time of the loop: 0.13808298110961914 seconds\n\nElapsed time of the loop: 0.13547372817993164 seconds\n\nElapsed time of the loop: 0.1363682746887207 seconds\n\nElapsed time of the loop: 0.13979482650756836 seconds\n\nElapsed time of the loop: 0.12630224227905273 seconds\n\nElapsed time of the loop: 0.13565611839294434 seconds\n\nElapsed time of the loop: 0.1259758472442627 seconds\n\nElapsed time of the loop: 0.13581275939941406 seconds\n\nElapsed time of the loop: 0.12656188011169434 seconds\n\nElapsed time of the loop: 0.12940168380737305 seconds\n\nElapsed time of the loop: 0.1295945644378662 seconds\n\nElapsed time of the loop: 0.14124107360839844 seconds\n\nElapsed time of the loop: 0.13477659225463867 seconds\n\nElapsed time of the loop: 0.13959312438964844 seconds\n\nElapsed time of the loop: 0.13986849784851074 seconds\n\nElapsed time of the loop: 0.14477849006652832 seconds\n\nElapsed time of the loop: 0.1389024257659912 seconds\n\nElapsed time of the loop: 0.1360008716583252 seconds\n\nElapsed time of the loop: 0.2146749496459961 seconds\n\nElapsed time of the loop: 0.1416463851928711 seconds\n\nElapsed time of the loop: 0.13856148719787598 seconds\n\nElapsed time of the loop: 0.1352100372314453 seconds\n\nElapsed time of the loop: 0.12758183479309082 seconds\n\nElapsed time of the loop: 0.1408390998840332 seconds\n\nElapsed time of the loop: 0.13519763946533203 seconds\n\nElapsed time of the loop: 0.14297270774841309 seconds\n\nElapsed time of the loop: 0.13680386543273926 seconds\n\nElapsed time of the loop: 0.13422179222106934 seconds\n\nElapsed time of the loop: 0.12508606910705566 seconds\n\nElapsed time of the loop: 0.14795184135437012 seconds\n\nElapsed time of the loop: 0.13703036308288574 seconds\n\nElapsed time of the loop: 0.14243412017822266 seconds\n\nElapsed time of the loop: 0.14203405380249023 seconds\n\nElapsed time of the loop: 0.1276249885559082 seconds\n\nElapsed time of the loop: 0.14052367210388184 seconds\n\nElapsed time of the loop: 0.14189553260803223 seconds\n\nElapsed time of the loop: 0.14046835899353027 seconds\n\nElapsed time of the loop: 0.14931392669677734 seconds\n\nElapsed time of the loop: 0.13038206100463867 seconds\n\nElapsed time of the loop: 0.127960205078125 seconds\n\nElapsed time of the loop: 0.1448206901550293 seconds\n\nElapsed time of the loop: 0.12711381912231445 seconds\n\nElapsed time of the loop: 0.12682652473449707 seconds\n\nElapsed time of the loop: 0.14530444145202637 seconds\n\nElapsed time of the loop: 0.13598918914794922 seconds\n\nElapsed time of the loop: 0.14696788787841797 seconds\nElapsed time of the loop: 0.1423494815826416 seconds\n\nElapsed time of the loop: 0.13594889640808105 seconds\n\nElapsed time of the loop: 0.13580775260925293 seconds\n\nElapsed time of the loop: 0.13788676261901855 seconds\n\nElapsed time of the loop: 0.14356136322021484 seconds\n\nElapsed time of the loop: 0.14405155181884766 seconds\n\nElapsed time of the loop: 0.13014817237854004 seconds\n\nElapsed time of the loop: 0.1308574676513672 seconds\n\nElapsed time of the loop: 0.1346752643585205 seconds\n\nElapsed time of the loop: 0.14068984985351562 seconds\n\nElapsed time of the loop: 0.1418468952178955 seconds\n\nElapsed time of the loop: 0.13826799392700195 seconds\n\nElapsed time of the loop: 0.14489960670471191 seconds\n\nElapsed time of the loop: 0.14084672927856445 seconds\n\nElapsed time of the loop: 0.13794445991516113 seconds\n\nElapsed time of the loop: 0.1403796672821045 seconds\n\nElapsed time of the loop: 0.13533926010131836 seconds\n\nElapsed time of the loop: 0.14620590209960938 seconds\n\nElapsed time of the loop: 0.14925265312194824 seconds\n\nElapsed time of the loop: 0.1469106674194336 seconds\n\nElapsed time of the loop: 0.13347840309143066 seconds\n\nElapsed time of the loop: 0.138169527053833 seconds\n\nElapsed time of the loop: 0.1336650848388672 seconds\n\nElapsed time of the loop: 0.14174938201904297 seconds\n\nElapsed time of the loop: 0.14489293098449707 seconds\n\nElapsed time of the loop: 0.1473557949066162 seconds\n\nElapsed time of the loop: 0.13606643676757812 seconds\n\nElapsed time of the loop: 0.13757705688476562 seconds\n\nElapsed time of the loop: 0.1463921070098877 seconds\n\nElapsed time of the loop: 0.1405925750732422 seconds\n\nElapsed time of the loop: 0.1393117904663086 seconds\n\nElapsed time of the loop: 0.1298530101776123 seconds\n\nElapsed time of the loop: 0.15382599830627441 seconds\n\nElapsed time of the loop: 0.1438453197479248 seconds\n\nElapsed time of the loop: 0.14257407188415527 seconds\n\nElapsed time of the loop: 0.14337515830993652 seconds\n\nElapsed time of the loop: 0.15033578872680664 seconds\n\nElapsed time of the loop: 0.15248370170593262 seconds\n\nElapsed time of the loop: 0.15232300758361816 seconds\n\nElapsed time of the loop: 0.17566823959350586 seconds\n\nElapsed time of the loop: 0.14904093742370605 seconds\n\nElapsed time of the loop: 0.1495656967163086 seconds\n\nElapsed time of the loop: 0.1560502052307129 seconds\n\nElapsed time of the loop: 0.15732812881469727 seconds\n\nElapsed time of the loop: 0.19017577171325684 seconds\n\nElapsed time of the loop: 0.21326828002929688 seconds\n\nElapsed time of the loop: 0.1630110740661621 seconds\n\nElapsed time of the loop: 0.14635205268859863 seconds\n\nElapsed time of the loop: 0.14669513702392578 seconds\n\nElapsed time of the loop: 0.15699362754821777 seconds\n\nElapsed time of the loop: 0.15670442581176758 seconds\n\nElapsed time of the loop: 0.1580507755279541 seconds\n\nElapsed time of the loop: 0.15117907524108887 seconds\n\nElapsed time of the loop: 0.14817118644714355 seconds\n\nElapsed time of the loop: 0.13869261741638184 seconds\n\nElapsed time of the loop: 0.14344024658203125 seconds\n\nElapsed time of the loop: 0.14981818199157715 seconds\n\nElapsed time of the loop: 0.2040402889251709 seconds\n\nElapsed time of the loop: 0.15262603759765625 seconds\n\nElapsed time of the loop: 0.13792061805725098 seconds\n\nElapsed time of the loop: 0.14130067825317383 seconds\n\nElapsed time of the loop: 0.14780449867248535 seconds\n\nElapsed time of the loop: 0.16656136512756348 seconds\n\nElapsed time of the loop: 0.2135915756225586 seconds\n\nElapsed time of the loop: 0.1526346206665039 seconds\n\nElapsed time of the loop: 0.1411454677581787 seconds\n\nElapsed time of the loop: 0.1468501091003418 seconds\n\nElapsed time of the loop: 0.15694832801818848 seconds\n\nElapsed time of the loop: 0.14584708213806152 seconds\n\nElapsed time of the loop: 0.15121173858642578 seconds\n\nElapsed time of the loop: 0.14803361892700195 seconds\n\nElapsed time of the loop: 0.14729809761047363 seconds\n\nElapsed time of the loop: 0.1498885154724121 seconds\n\nElapsed time of the loop: 0.13390541076660156 seconds\n\nElapsed time of the loop: 0.14987659454345703 seconds\n\nElapsed time of the loop: 0.14965200424194336 seconds\n\nElapsed time of the loop: 0.13536787033081055 seconds\n\nElapsed time of the loop: 0.13126635551452637 seconds\n\nElapsed time of the loop: 0.13516974449157715 seconds\n\nElapsed time of the loop: 0.14270663261413574 seconds\n\nElapsed time of the loop: 0.1491224765777588 seconds\n\nElapsed time of the loop: 0.15087103843688965 seconds\n\nElapsed time of the loop: 0.1447439193725586 seconds\n\nElapsed time of the loop: 0.1446082592010498 seconds\n\nElapsed time of the loop: 0.1459193229675293 seconds\n\nElapsed time of the loop: 0.14572739601135254 seconds\n\nElapsed time of the loop: 0.14365649223327637 seconds\n\nElapsed time of the loop: 0.13630962371826172 seconds\n\nElapsed time of the loop: 0.12253165245056152 seconds\n\nElapsed time of the loop: 0.12786650657653809 seconds\n\nElapsed time of the loop: 0.1351315975189209 seconds\n\nElapsed time of the loop: 0.13719558715820312 seconds\n\nElapsed time of the loop: 0.13498830795288086 seconds\n\nElapsed time of the loop: 0.1390538215637207 seconds\n\nElapsed time of the loop: 0.12902426719665527 seconds\n\nElapsed time of the loop: 0.13038086891174316 seconds\n\nElapsed time of the loop: 0.14114832878112793 seconds\n\nElapsed time of the loop: 0.1330094337463379 seconds\n\nElapsed time of the loop: 0.13411259651184082 seconds\n\nElapsed time of the loop: 0.13797235488891602 seconds\n\nElapsed time of the loop: 0.13298773765563965 seconds\n\nElapsed time of the loop: 0.13208389282226562 seconds\n\nElapsed time of the loop: 0.13504290580749512 seconds\n\nElapsed time of the loop: 0.1351926326751709 seconds\n\nElapsed time of the loop: 0.12338423728942871 seconds\n\nElapsed time of the loop: 0.13677120208740234 seconds\n\nElapsed time of the loop: 0.13139939308166504 seconds\n\nElapsed time of the loop: 0.13168549537658691 seconds\n\nElapsed time of the loop: 0.13748788833618164 seconds\n\nElapsed time of the loop: 0.135481595993042 seconds\n\nElapsed time of the loop: 0.1299586296081543 seconds\n\nElapsed time of the loop: 0.22150588035583496 seconds\n\nElapsed time of the loop: 0.1381702423095703 seconds\n\nElapsed time of the loop: 0.13846445083618164 seconds\n\nElapsed time of the loop: 0.13668584823608398 seconds\n\nElapsed time of the loop: 0.1172475814819336 seconds\n\nElapsed time of the loop: 0.13430023193359375 seconds\n\nElapsed time of the loop: 0.1405162811279297 seconds\n\nElapsed time of the loop: 0.13933992385864258 seconds\n\nElapsed time of the loop: 0.140855073928833 seconds\n\nElapsed time of the loop: 0.12335062026977539 seconds\n\nElapsed time of the loop: 0.13185954093933105 seconds\n\nElapsed time of the loop: 0.14388465881347656 seconds\n\nElapsed time of the loop: 0.13619112968444824 seconds\n\nElapsed time of the loop: 0.13760066032409668 seconds\n\nElapsed time of the loop: 0.14206480979919434 seconds\n\nElapsed time of the loop: 0.13727140426635742 seconds\n\nElapsed time of the loop: 0.1364884376525879 seconds\n\nElapsed time of the loop: 0.13701772689819336 seconds\n\nElapsed time of the loop: 0.14542555809020996 seconds\n\nElapsed time of the loop: 0.1404709815979004 seconds\n\nElapsed time of the loop: 0.1360180377960205 seconds\n\nElapsed time of the loop: 0.14052939414978027 seconds\n\nElapsed time of the loop: 0.1466226577758789 seconds\n\nElapsed time of the loop: 0.12802743911743164 seconds\n\nElapsed time of the loop: 0.11721491813659668 seconds\n\nElapsed time of the loop: 0.13621020317077637 seconds\n\nElapsed time of the loop: 0.1405179500579834 seconds\n\nElapsed time of the loop: 0.1308894157409668 seconds\n\nElapsed time of the loop: 0.1245260238647461 seconds\n\nElapsed time of the loop: 0.14039134979248047 seconds\n\nElapsed time of the loop: 0.13249611854553223 seconds\n\nElapsed time of the loop: 0.13795256614685059 seconds\n\nElapsed time of the loop: 0.12869930267333984 seconds\n\nElapsed time of the loop: 0.14128851890563965 seconds\n\nElapsed time of the loop: 0.12964987754821777 seconds\n\nElapsed time of the loop: 0.13559412956237793 seconds\n\nElapsed time of the loop: 0.14342188835144043 seconds\n\nElapsed time of the loop: 0.14029550552368164 seconds\n\nElapsed time of the loop: 0.12753844261169434 seconds\n\nElapsed time of the loop: 0.13546395301818848 seconds\n\nElapsed time of the loop: 0.13124728202819824 seconds\n\nElapsed time of the loop: 0.1442103385925293 seconds\nElapsed time of the loop: 0.13932561874389648 seconds\n\nElapsed time of the loop: 0.14755582809448242 seconds\n\nElapsed time of the loop: 0.13863539695739746 seconds\n\nElapsed time of the loop: 0.15184235572814941 seconds\n\nElapsed time of the loop: 0.1362447738647461 seconds\n\nElapsed time of the loop: 0.13765931129455566 seconds\n\nElapsed time of the loop: 0.1525096893310547 seconds\n\nElapsed time of the loop: 0.15392184257507324 seconds\n\nElapsed time of the loop: 0.14945268630981445 seconds\n\nElapsed time of the loop: 0.13919830322265625 seconds\n\nElapsed time of the loop: 0.14636540412902832 seconds\n\nElapsed time of the loop: 0.14837980270385742 seconds\n\nElapsed time of the loop: 0.14517521858215332 seconds\n\nElapsed time of the loop: 0.13756203651428223 seconds\n\nElapsed time of the loop: 0.14025402069091797 seconds\n\nElapsed time of the loop: 0.13677167892456055 seconds\n\nElapsed time of the loop: 0.14150238037109375 seconds\n\nElapsed time of the loop: 0.1346750259399414 seconds\n\nElapsed time of the loop: 0.1294236183166504 seconds\n\nElapsed time of the loop: 0.12923192977905273 seconds\n\nElapsed time of the loop: 0.1377115249633789 seconds\n\nElapsed time of the loop: 0.13322210311889648 seconds\n\nElapsed time of the loop: 0.13455414772033691 seconds\n\nElapsed time of the loop: 0.12281632423400879 seconds\n\nElapsed time of the loop: 0.14353036880493164 seconds\n\nElapsed time of the loop: 0.13811707496643066 seconds\n\nElapsed time of the loop: 0.14107179641723633 seconds\n\nElapsed time of the loop: 0.1377277374267578 seconds\n\nElapsed time of the loop: 0.132965087890625 seconds\n\nElapsed time of the loop: 0.14281988143920898 seconds\n\nElapsed time of the loop: 0.14389729499816895 seconds\n\nElapsed time of the loop: 0.137559175491333 seconds\n\nElapsed time of the loop: 0.1381540298461914 seconds\n\nElapsed time of the loop: 0.14277195930480957 seconds\n\nElapsed time of the loop: 0.1261305809020996 seconds\n\nElapsed time of the loop: 0.13701820373535156 seconds\n\nElapsed time of the loop: 0.12909698486328125 seconds\n\nElapsed time of the loop: 0.1316678524017334 seconds\n\nElapsed time of the loop: 0.14347338676452637 seconds\n\nElapsed time of the loop: 0.13044118881225586 seconds\n\nElapsed time of the loop: 0.1250321865081787 seconds\n\nElapsed time of the loop: 0.13567805290222168 seconds\n\nElapsed time of the loop: 0.13835954666137695 seconds\n\nElapsed time of the loop: 0.13695120811462402 seconds\n\nElapsed time of the loop: 0.13510584831237793 seconds\n\nElapsed time of the loop: 0.1276991367340088 seconds\n\nElapsed time of the loop: 0.13260316848754883 seconds\n\nElapsed time of the loop: 0.13287115097045898 seconds\n\nElapsed time of the loop: 0.1339874267578125 seconds\n\nElapsed time of the loop: 0.12665081024169922 seconds\n\nElapsed time of the loop: 0.1380603313446045 seconds\n\nElapsed time of the loop: 0.14313459396362305 seconds\n\nElapsed time of the loop: 0.14471030235290527 seconds\n\nElapsed time of the loop: 0.13321638107299805 seconds\n\nElapsed time of the loop: 0.13649916648864746 seconds\n\nElapsed time of the loop: 0.13149237632751465 seconds\n\nElapsed time of the loop: 0.13701391220092773 seconds\n\nElapsed time of the loop: 0.13873672485351562 seconds\n\nElapsed time of the loop: 0.14336705207824707 seconds\n\nElapsed time of the loop: 0.14722108840942383 seconds\n\nElapsed time of the loop: 0.1437852382659912 seconds\n\nElapsed time of the loop: 0.13965868949890137 seconds\n\nElapsed time of the loop: 0.14394354820251465 seconds\n\nElapsed time of the loop: 0.14471888542175293 seconds\n\nElapsed time of the loop: 0.1459200382232666 seconds\n\nElapsed time of the loop: 0.13939166069030762 seconds\n\nElapsed time of the loop: 0.13633990287780762 seconds\n\nElapsed time of the loop: 0.1388254165649414 seconds\n\nElapsed time of the loop: 0.1411423683166504 seconds\n\nElapsed time of the loop: 0.13599276542663574 seconds\n\nElapsed time of the loop: 0.1434338092803955 seconds\n\nElapsed time of the loop: 0.13731098175048828 seconds\n\nElapsed time of the loop: 0.13325977325439453 seconds\n\nElapsed time of the loop: 0.1419532299041748 seconds\n\nElapsed time of the loop: 0.13182449340820312 seconds\n\nElapsed time of the loop: 0.12335944175720215 seconds\n\nElapsed time of the loop: 0.13679027557373047 seconds\n\nElapsed time of the loop: 0.1405637264251709 seconds\n\nElapsed time of the loop: 0.12466025352478027 seconds\n\nElapsed time of the loop: 0.13079452514648438 seconds\n\nElapsed time of the loop: 0.14193081855773926 seconds\n\nElapsed time of the loop: 0.13982462882995605 seconds\n\nElapsed time of the loop: 0.13395428657531738 seconds\n\nElapsed time of the loop: 0.13370919227600098 seconds\n\nElapsed time of the loop: 0.13019967079162598 seconds\n\nElapsed time of the loop: 0.14041686058044434 seconds\n\nElapsed time of the loop: 0.12315511703491211 seconds\n\nElapsed time of the loop: 0.14079594612121582 seconds\n\nElapsed time of the loop: 0.13077616691589355 seconds\n\nElapsed time of the loop: 0.2356719970703125 seconds\n\nElapsed time of the loop: 0.14265894889831543 seconds\n\nElapsed time of the loop: 0.13456153869628906 seconds\n\nElapsed time of the loop: 0.12464475631713867 seconds\n\nElapsed time of the loop: 0.1242685317993164 seconds\n\nElapsed time of the loop: 0.1314687728881836 seconds\n\nElapsed time of the loop: 0.12368512153625488 seconds\n\nElapsed time of the loop: 0.1357707977294922 seconds\n\nElapsed time of the loop: 0.11700558662414551 seconds\n\nElapsed time of the loop: 0.1427164077758789 seconds\n\nElapsed time of the loop: 0.1434004306793213 seconds\n\nElapsed time of the loop: 0.14172101020812988 seconds\n\nElapsed time of the loop: 0.13597512245178223 seconds\n\nElapsed time of the loop: 0.1345043182373047 seconds\n\nElapsed time of the loop: 0.1383359432220459 seconds\n\nElapsed time of the loop: 0.138624906539917 seconds\n\nElapsed time of the loop: 0.12567448616027832 seconds\n\nElapsed time of the loop: 0.13767004013061523 seconds\n\nElapsed time of the loop: 0.12663531303405762 seconds\n\nElapsed time of the loop: 0.13095569610595703 seconds\n\nElapsed time of the loop: 0.13506507873535156 seconds\n\nElapsed time of the loop: 0.11691713333129883 seconds\n\nElapsed time of the loop: 0.11883068084716797 seconds\n\nElapsed time of the loop: 0.14216375350952148 seconds\n\nElapsed time of the loop: 0.13425064086914062 seconds\n\nElapsed time of the loop: 0.1348264217376709 seconds\n\nElapsed time of the loop: 0.14293718338012695 seconds\n\nElapsed time of the loop: 0.135148286819458 seconds\n\nElapsed time of the loop: 0.13420438766479492 seconds\n\nElapsed time of the loop: 0.14018821716308594 seconds\n\nElapsed time of the loop: 0.14555835723876953 seconds\n\nElapsed time of the loop: 0.1559300422668457 seconds\n\nElapsed time of the loop: 0.13840031623840332 seconds\n\nElapsed time of the loop: 0.14610600471496582 seconds\n\nElapsed time of the loop: 0.14734363555908203 seconds\n\nElapsed time of the loop: 0.1524662971496582 seconds\n\nElapsed time of the loop: 0.14456605911254883 seconds\n\nElapsed time of the loop: 0.15073108673095703 seconds\n\nElapsed time of the loop: 0.141632080078125 seconds\n\nElapsed time of the loop: 0.13857650756835938 seconds\n\nElapsed time of the loop: 0.14145159721374512 seconds\n\nElapsed time of the loop: 0.13832592964172363 seconds\n\nElapsed time of the loop: 0.14237570762634277 seconds\n\nElapsed time of the loop: 0.13568496704101562 seconds\n\nElapsed time of the loop: 0.1422429084777832 seconds\n\nElapsed time of the loop: 0.12893199920654297 seconds\n\nElapsed time of the loop: 0.1390380859375 seconds\n\nElapsed time of the loop: 0.13472509384155273 seconds\n\nElapsed time of the loop: 0.13016319274902344 seconds\n\nElapsed time of the loop: 0.1433258056640625 seconds\n\nElapsed time of the loop: 0.13935470581054688 seconds\n\nElapsed time of the loop: 0.13242125511169434 seconds\n\nElapsed time of the loop: 0.13050556182861328 seconds\n\nElapsed time of the loop: 0.13653063774108887 seconds\n\nElapsed time of the loop: 0.1362290382385254 seconds\n\nElapsed time of the loop: 0.1356966495513916 seconds\n\nElapsed time of the loop: 0.1258378028869629 seconds\n\nElapsed time of the loop: 0.13178491592407227 seconds\n\nElapsed time of the loop: 0.1368420124053955 seconds\n\nElapsed time of the loop: 0.13957738876342773 seconds\n\nElapsed time of the loop: 0.1294999122619629 seconds\n\nElapsed time of the loop: 0.13978004455566406 seconds\n\nElapsed time of the loop: 0.1419064998626709 seconds\n\nElapsed time of the loop: 0.13104963302612305 seconds\nElapsed time of the loop: 0.12656331062316895 seconds\n\nElapsed time of the loop: 0.12975692749023438 seconds\n\nElapsed time of the loop: 0.13367271423339844 seconds\n\nElapsed time of the loop: 0.13152599334716797 seconds\n\nElapsed time of the loop: 0.14390873908996582 seconds\n\nElapsed time of the loop: 0.13728785514831543 seconds\n\nElapsed time of the loop: 0.13492321968078613 seconds\n\nElapsed time of the loop: 0.1314373016357422 seconds\n\nElapsed time of the loop: 0.131608247756958 seconds\n\nElapsed time of the loop: 0.134688138961792 seconds\n\nElapsed time of the loop: 0.13408589363098145 seconds\n\nElapsed time of the loop: 0.13482952117919922 seconds\n\nElapsed time of the loop: 0.14558792114257812 seconds\n\nElapsed time of the loop: 0.1430034637451172 seconds\n\nElapsed time of the loop: 0.1397697925567627 seconds\n\nElapsed time of the loop: 0.13792657852172852 seconds\n\nElapsed time of the loop: 0.14466214179992676 seconds\n\nElapsed time of the loop: 0.13646388053894043 seconds\n\nElapsed time of the loop: 0.1476271152496338 seconds\n\nElapsed time of the loop: 0.14199566841125488 seconds\n\nElapsed time of the loop: 0.13391542434692383 seconds\n\nElapsed time of the loop: 0.14016342163085938 seconds\n\nElapsed time of the loop: 0.1262352466583252 seconds\n\nElapsed time of the loop: 0.13837051391601562 seconds\n\nElapsed time of the loop: 0.12933778762817383 seconds\n\nElapsed time of the loop: 0.14291787147521973 seconds\n\nElapsed time of the loop: 0.1382293701171875 seconds\n\nElapsed time of the loop: 0.14334607124328613 seconds\n\nElapsed time of the loop: 0.14001917839050293 seconds\n\nElapsed time of the loop: 0.13236737251281738 seconds\n\nElapsed time of the loop: 0.13458752632141113 seconds\n\nElapsed time of the loop: 0.1381363868713379 seconds\n\nElapsed time of the loop: 0.13567447662353516 seconds\n\nElapsed time of the loop: 0.13613486289978027 seconds\n\nElapsed time of the loop: 0.13913822174072266 seconds\n\nElapsed time of the loop: 0.1334071159362793 seconds\n\nElapsed time of the loop: 0.12794017791748047 seconds\n\nElapsed time of the loop: 0.13316011428833008 seconds\n\nElapsed time of the loop: 0.13709020614624023 seconds\n\nElapsed time of the loop: 0.13270187377929688 seconds\n\nElapsed time of the loop: 0.13663578033447266 seconds\n\nElapsed time of the loop: 0.14419770240783691 seconds\n\nElapsed time of the loop: 0.14010357856750488 seconds\n\nElapsed time of the loop: 0.12495660781860352 seconds\n\nElapsed time of the loop: 0.13753771781921387 seconds\n\nElapsed time of the loop: 0.13782334327697754 seconds\n\nElapsed time of the loop: 0.13378167152404785 seconds\n\nElapsed time of the loop: 0.14269161224365234 seconds\n\nElapsed time of the loop: 0.14466476440429688 seconds\n\nElapsed time of the loop: 0.12735772132873535 seconds\n\nElapsed time of the loop: 0.13088607788085938 seconds\n\nElapsed time of the loop: 0.13100504875183105 seconds\n\nElapsed time of the loop: 0.1353135108947754 seconds\n\nElapsed time of the loop: 0.13067173957824707 seconds\n\nElapsed time of the loop: 0.13968682289123535 seconds\n\nElapsed time of the loop: 0.12991833686828613 seconds\n\nElapsed time of the loop: 0.13604331016540527 seconds\n\nElapsed time of the loop: 0.13969755172729492 seconds\n\nElapsed time of the loop: 0.13890957832336426 seconds\n\nElapsed time of the loop: 0.1272566318511963 seconds\n\nElapsed time of the loop: 0.13246393203735352 seconds\n\nElapsed time of the loop: 0.13045120239257812 seconds\n\nElapsed time of the loop: 0.14005589485168457 seconds\n\nElapsed time of the loop: 0.12574553489685059 seconds\n\nElapsed time of the loop: 0.13639593124389648 seconds\n\nElapsed time of the loop: 0.13661980628967285 seconds\n\nElapsed time of the loop: 0.24015021324157715 seconds\n\nElapsed time of the loop: 0.12390804290771484 seconds\n\nElapsed time of the loop: 0.12384414672851562 seconds\n\nElapsed time of the loop: 0.1394968032836914 seconds\n\nElapsed time of the loop: 0.1331949234008789 seconds\n\nElapsed time of the loop: 0.12365221977233887 seconds\n\nElapsed time of the loop: 0.1466217041015625 seconds\n\nElapsed time of the loop: 0.12636351585388184 seconds\n\nElapsed time of the loop: 0.1300957202911377 seconds\n\nElapsed time of the loop: 0.13685369491577148 seconds\n\nElapsed time of the loop: 0.13819599151611328 seconds\n\nElapsed time of the loop: 0.1423044204711914 seconds\n\nElapsed time of the loop: 0.14157438278198242 seconds\n\nElapsed time of the loop: 0.13666510581970215 seconds\n\nElapsed time of the loop: 0.1456761360168457 seconds\n\nElapsed time of the loop: 0.14284920692443848 seconds\n\nElapsed time of the loop: 0.13724231719970703 seconds\n\nElapsed time of the loop: 0.14376068115234375 seconds\n\nElapsed time of the loop: 0.14154863357543945 seconds\n\nElapsed time of the loop: 0.14200782775878906 seconds\n\nElapsed time of the loop: 0.14122509956359863 seconds\n\nElapsed time of the loop: 0.1511213779449463 seconds\n\nElapsed time of the loop: 0.15179753303527832 seconds\n\nElapsed time of the loop: 0.16286039352416992 seconds\n\nElapsed time of the loop: 0.13832426071166992 seconds\n\nElapsed time of the loop: 0.12862849235534668 seconds\n\nElapsed time of the loop: 0.14217281341552734 seconds\n\nElapsed time of the loop: 0.13764119148254395 seconds\n\nElapsed time of the loop: 0.14148783683776855 seconds\n\nElapsed time of the loop: 0.1371169090270996 seconds\n\nElapsed time of the loop: 0.13790631294250488 seconds\n\nElapsed time of the loop: 0.13176989555358887 seconds\n\nElapsed time of the loop: 0.12059307098388672 seconds\n\nElapsed time of the loop: 0.13813042640686035 seconds\n\nElapsed time of the loop: 0.13464879989624023 seconds\n\nElapsed time of the loop: 0.14049625396728516 seconds\n\nElapsed time of the loop: 0.1320488452911377 seconds\n\nElapsed time of the loop: 0.13390684127807617 seconds\n\nElapsed time of the loop: 0.139984130859375 seconds\n\nElapsed time of the loop: 0.12912678718566895 seconds\n\nElapsed time of the loop: 0.13809561729431152 seconds\n\nElapsed time of the loop: 0.12686681747436523 seconds\n\nElapsed time of the loop: 0.14708662033081055 seconds\n\nMaximum number of iteration reached\n\nCPU times: total: 6min 56s\n\nWall time: 2min 18s\n"
        }
      ],
      "id": "9195a387"
    },
    {
      "cell_type": "code",
      "source": "projection_poly",
      "metadata": {
        "scrolled": true
      },
      "execution_count": 22,
      "outputs": [
        {
          "execution_count": 22,
          "output_type": "execute_result",
          "data": {
            "text/latex": [
              "$\\displaystyle - 0.512030217734277 \\left(- 0.630004375519503 x_{1} - 0.178563396024585 x_{2} + 0.612648143432157 x_{3} - x_{4}\\right)^{4} - 0.237857292657558 \\left(- 0.422105263091009 x_{1} + 0.322065255378532 x_{2} - 0.0549959677422835 x_{3} - x_{4}\\right)^{4} - 0.155749622382464 \\left(- 0.186957265833074 x_{1} - 0.943908159823467 x_{2} - 0.0908915991081466 x_{3} + x_{4}\\right)^{4} + 0.0256338068322886 \\left(- 0.0512080298652965 x_{1} - 0.335991149224829 x_{2} - 0.842068441500781 x_{3} + x_{4}\\right)^{4} - 0.32729938408849 \\left(0.783964252773796 x_{1} + x_{2} + 0.708327749993899 x_{3} - 0.560884435087313 x_{4}\\right)^{4} - 0.11187055373594 \\left(x_{1} + 0.531976530221288 x_{2} + 0.284853168360958 x_{3} + 0.110407820870872 x_{4}\\right)^{4}$"
            ],
            "text/plain": [
              "-0.512030217734277*(-0.630004375519503*x1 - 0.178563396024585*x2 + 0.612648143432157*x3 - x4)**4 - 0.237857292657558*(-0.422105263091009*x1 + 0.322065255378532*x2 - 0.0549959677422835*x3 - x4)**4 - 0.155749622382464*(-0.186957265833074*x1 - 0.943908159823467*x2 - 0.0908915991081466*x3 + x4)**4 + 0.0256338068322886*(-0.0512080298652965*x1 - 0.335991149224829*x2 - 0.842068441500781*x3 + x4)**4 - 0.32729938408849*(0.783964252773796*x1 + x2 + 0.708327749993899*x3 - 0.560884435087313*x4)**4 - 0.11187055373594*(x1 + 0.531976530221288*x2 + 0.284853168360958*x3 + 0.110407820870872*x4)**4"
            ]
          },
          "metadata": {}
        }
      ],
      "id": "52fe35fa"
    },
    {
      "cell_type": "code",
      "source": "",
      "metadata": {},
      "execution_count": null,
      "outputs": [],
      "id": "a3fd9b83"
    }
  ]
}