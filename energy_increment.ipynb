{
 "cells": [
  {
   "cell_type": "code",
   "execution_count": 1,
   "id": "0ca6867c",
   "metadata": {},
   "outputs": [],
   "source": [
    "import numpy as np\n",
    "import scipy\n",
    "import scipy.special\n",
    "import itertools\n",
    "import pandas as pd\n",
    "import math\n",
    "import copy\n",
    "from math import comb\n",
    "from sympy import Matrix, symbols, Poly,degree\n",
    "from functools import partial\n",
    "import dask\n",
    "import dask.dataframe as dd\n",
    "from sympy.utilities.lambdify import lambdify\n",
    "import time"
   ]
  },
  {
   "cell_type": "markdown",
   "id": "616368c6",
   "metadata": {},
   "source": [
    "# Greedy Aproximation via Energy Increment\n",
    "\n",
    "This is an implementation of the Energy Increment algorithm in the paper https://arxiv.org/abs/2207.12529.  The algorithm uses following sub-routines\n",
    "\n",
    "* Computation of $L_p$ norms of symmetric tensors using the quadrature rule proved by Cristancho and Velasco\n",
    "* Sampling a collection of vectors on $n$-sphere $S^{n-1}$ and evaluating a symmetric tensor on these vectors \n",
    "* Creating a flag of subspaces and projecting a symmetric tensor on these subspaces. Eventually, these projections create the low-rank approximation.\n"
   ]
  },
  {
   "cell_type": "markdown",
   "id": "cb9cad4d",
   "metadata": {},
   "source": [
    "## S. Cristancho and M. Velasco quadrature rule implementation into Python"
   ]
  },
  {
   "cell_type": "markdown",
   "id": "d2216681",
   "metadata": {},
   "source": [
    "We start implementing in S. Cristancho and M. Velasco, Harmonic hierarchies for polynomial optimization, https://arxiv.org/abs/2202.12865, for computing $L_p$-norms of symmetric tensors. We want to note from the beginning that we will use monomial index notation in this code. We recall that by a quadrature formula of algebraic degree $2t$ for the Borel measure $\\mu$ on $\\mathbb{S}^{n-1}$ Cristancho and Velasco paper means a pair $(X,W)$ where $X\\subset \\mathbb{S}^{n-1}$ and $W: X \\to \\mathbb{R}_{>0}$ is a function satisfying the equality\n",
    "\\begin{equation}\n",
    "\\label{spherical_formula}\n",
    "    \\displaystyle\\int_{\\mathbb{S}^{n-1}} f(y) \\, d\\mu(y)\n",
    "    =\n",
    "    \\sum\\limits_{x\\in X} W(x) f(x)\n",
    "\\end{equation}\n",
    "for every homogeneous polynomial of even degree $2t$.\n"
   ]
  },
  {
   "cell_type": "markdown",
   "id": "0150bc07",
   "metadata": {},
   "source": [
    "### Computing the pair $(X,W)$ in quadrature rule\n",
    "\n",
    "The rule uses volume of $n$-dimensional ball and surface area of $n$-dimensional sphere, they are computed below."
   ]
  },
  {
   "cell_type": "markdown",
   "id": "9daafefe",
   "metadata": {},
   "source": [
    "#### Volume of the $n$-dimensional ball"
   ]
  },
  {
   "cell_type": "code",
   "execution_count": 2,
   "id": "da80fb4b",
   "metadata": {},
   "outputs": [],
   "source": [
    "def ball_volume(n:int) -> float:\n",
    "    \n",
    "    \"\"\"\n",
    "    Parameter:\n",
    "    \n",
    "    n: int. Dimension of the ball.\n",
    "    \n",
    "    Output:\n",
    "    \n",
    "    V: float. Volume of the n-dimensional ball.\n",
    "    \"\"\"\n",
    "    \n",
    "    V = 1\n",
    "    if n==1:\n",
    "        V = 2\n",
    "    elif n>1:\n",
    "        V = (2*np.pi/n)*ball_volume(n-2)\n",
    "    elif n<0:\n",
    "        raise ValueError(\"The dimension n cannot be lower than 0\")\n",
    "    return V"
   ]
  },
  {
   "cell_type": "markdown",
   "id": "c80947d1",
   "metadata": {},
   "source": [
    "#### Surface Area of the $n$-dimensional sphere"
   ]
  },
  {
   "cell_type": "code",
   "execution_count": 3,
   "id": "3bf23b35",
   "metadata": {},
   "outputs": [],
   "source": [
    "def sphere_surface_area(n:int) -> float:\n",
    "    \n",
    "    \"\"\"\n",
    "    Parameter:\n",
    "    \n",
    "    n: int. Dimension of the ball.\n",
    "    \n",
    "    Output:\n",
    "    \n",
    "    return: float. Surface area of the n-dimensional sphere.\n",
    "    \"\"\"\n",
    "    \n",
    "    return (n+1)*ball_volume(n+1)"
   ]
  },
  {
   "cell_type": "markdown",
   "id": "49fca3bb",
   "metadata": {},
   "source": [
    "#### Spherical quadrature function"
   ]
  },
  {
   "cell_type": "markdown",
   "id": "97d3aa76",
   "metadata": {},
   "source": [
    "We now we provice S. Cristancho and M. Velasco Julia package's implementation in python."
   ]
  },
  {
   "cell_type": "code",
   "execution_count": 4,
   "id": "1d8c3fea",
   "metadata": {},
   "outputs": [],
   "source": [
    "def custom_flatten(x):\n",
    "    \n",
    "    \"\"\"\n",
    "    Parameter:\n",
    "    \n",
    "    x: array. List of two elements.\n",
    "    \n",
    "    Output:\n",
    "    \n",
    "    result: array. The second element of the list has a transformation.\n",
    "    \"\"\"\n",
    "    \n",
    "    t1 = x[0]\n",
    "    t2 = np.sqrt(1-x[0]**2)*x[1]\n",
    "    result = np.append(np.array(t1), np.array(t2))\n",
    "\n",
    "    return result\n",
    "\n",
    "def spherical_quadrature(n:int, deg:int):\n",
    "    \n",
    "    \"\"\"\n",
    "    Parameters:\n",
    "    \n",
    "    n: int. Dimension of the space.    \n",
    "    deg: int. Degree. Must be an even number.\n",
    "    \n",
    "    Output:\n",
    "    \n",
    "    (X, WX): (array, array). Pair (X,W) for the cubature formula.\n",
    "    \"\"\"\n",
    "    \n",
    "    X = np.array([1.,-1.])\n",
    "    WX = np.array([1.,1.])\n",
    "    if n > 1:\n",
    "        Y, WY = spherical_quadrature(n-1,deg)\n",
    "        Z, WZ = scipy.special.roots_jacobi(deg,(n-3)/2,(n-3)/2)\n",
    "        X = np.array([custom_flatten(comb) for comb in itertools.product(Z,Y)])\n",
    "        WX = np.array([np.prod(comb) for comb in itertools.product(WZ,WY)])\n",
    "    elif n < 1:\n",
    "        raise ValueError(\"dimension argument must be positive\")\n",
    "        \n",
    "    return X,WX"
   ]
  },
  {
   "cell_type": "markdown",
   "id": "e89c346f",
   "metadata": {},
   "source": [
    "##### Example"
   ]
  },
  {
   "cell_type": "code",
   "execution_count": 5,
   "id": "38fa896a",
   "metadata": {},
   "outputs": [
    {
     "data": {
      "text/plain": [
       "(array([[-0.86113631, -0.46967645,  0.19454636],\n",
       "        [-0.86113631, -0.46967645, -0.19454636],\n",
       "        [-0.86113631, -0.19454636,  0.46967645],\n",
       "        [-0.86113631, -0.19454636, -0.46967645],\n",
       "        [-0.86113631,  0.19454636,  0.46967645],\n",
       "        [-0.86113631,  0.19454636, -0.46967645],\n",
       "        [-0.86113631,  0.46967645,  0.19454636],\n",
       "        [-0.86113631,  0.46967645, -0.19454636],\n",
       "        [-0.33998104, -0.86884614,  0.35988786],\n",
       "        [-0.33998104, -0.86884614, -0.35988786],\n",
       "        [-0.33998104, -0.35988786,  0.86884614],\n",
       "        [-0.33998104, -0.35988786, -0.86884614],\n",
       "        [-0.33998104,  0.35988786,  0.86884614],\n",
       "        [-0.33998104,  0.35988786, -0.86884614],\n",
       "        [-0.33998104,  0.86884614,  0.35988786],\n",
       "        [-0.33998104,  0.86884614, -0.35988786],\n",
       "        [ 0.33998104, -0.86884614,  0.35988786],\n",
       "        [ 0.33998104, -0.86884614, -0.35988786],\n",
       "        [ 0.33998104, -0.35988786,  0.86884614],\n",
       "        [ 0.33998104, -0.35988786, -0.86884614],\n",
       "        [ 0.33998104,  0.35988786,  0.86884614],\n",
       "        [ 0.33998104,  0.35988786, -0.86884614],\n",
       "        [ 0.33998104,  0.86884614,  0.35988786],\n",
       "        [ 0.33998104,  0.86884614, -0.35988786],\n",
       "        [ 0.86113631, -0.46967645,  0.19454636],\n",
       "        [ 0.86113631, -0.46967645, -0.19454636],\n",
       "        [ 0.86113631, -0.19454636,  0.46967645],\n",
       "        [ 0.86113631, -0.19454636, -0.46967645],\n",
       "        [ 0.86113631,  0.19454636,  0.46967645],\n",
       "        [ 0.86113631,  0.19454636, -0.46967645],\n",
       "        [ 0.86113631,  0.46967645,  0.19454636],\n",
       "        [ 0.86113631,  0.46967645, -0.19454636]]),\n",
       " array([0.27320456, 0.27320456, 0.27320456, 0.27320456, 0.27320456,\n",
       "        0.27320456, 0.27320456, 0.27320456, 0.51219361, 0.51219361,\n",
       "        0.51219361, 0.51219361, 0.51219361, 0.51219361, 0.51219361,\n",
       "        0.51219361, 0.51219361, 0.51219361, 0.51219361, 0.51219361,\n",
       "        0.51219361, 0.51219361, 0.51219361, 0.51219361, 0.27320456,\n",
       "        0.27320456, 0.27320456, 0.27320456, 0.27320456, 0.27320456,\n",
       "        0.27320456, 0.27320456]))"
      ]
     },
     "execution_count": 5,
     "metadata": {},
     "output_type": "execute_result"
    }
   ],
   "source": [
    "spherical_quadrature(3,4)"
   ]
  },
  {
   "cell_type": "markdown",
   "id": "ee2204b6",
   "metadata": {},
   "source": [
    "## Rank one symmetric tensors $v \\otimes \\cdots \\otimes v$"
   ]
  },
  {
   "cell_type": "markdown",
   "id": "776c18fc",
   "metadata": {},
   "source": [
    "We recall that symmetric tensors can be identified with homogenous polynomials. Therefore, for convenience, we work with polynomials of the type $p(x)= c \\cdot \\langle v, x \\rangle^d$ to represent rank one symmetric tensors of the type $v \\otimes \\cdots \\otimes v$."
   ]
  },
  {
   "cell_type": "code",
   "execution_count": 6,
   "id": "d9c3313c",
   "metadata": {
    "tags": []
   },
   "outputs": [],
   "source": [
    "class custom_polynomial:\n",
    "    \n",
    "    def __init__(self,const:int, v:list, d:int):\n",
    "        \n",
    "        \"\"\"\n",
    "        Parameters:\n",
    "        \n",
    "        self: Parameter in instance method.\n",
    "        const: int. Constant multiplying the inner product on the expression above.\n",
    "        v: list. Vector of real numbers.\n",
    "        d: int. Degree of the polynomial. This must be an even number.\n",
    "        \"\"\"\n",
    "        \n",
    "        self.num_var = len(v)\n",
    "        self.variables = symbols(\" \".join([f\"x{i}\" for i in range(1,self.num_var + 1)]))\n",
    "        self.expr = const*(Matrix(list(self.variables)).dot((Matrix(list(v))))**d)\n",
    "        self.degree = d\n",
    "        self.f = lambdify(list(self.variables),self.expr)\n",
    "        \n",
    "### The evaluate function evaluates a given polynomial at a given point.\n",
    "    \n",
    "    def evaluate(self,w):\n",
    "        \n",
    "        \"\"\"\n",
    "        Parameters:\n",
    "        \n",
    "        self: Parameter in instance method. Polynomial defined in the class.\n",
    "        w: list. Point at which the polynomial is evaluated.\n",
    "        \n",
    "        Output:\n",
    "        \n",
    "        result: float. Evaluation of the polynomial at w.\n",
    "        \"\"\"\n",
    "        \n",
    "        if self.num_var != len(w):\n",
    "            raise Exception(\"This polynomial cannot be evaluated\")\n",
    "            \n",
    "        result = self.f(*list(w))\n",
    "        \n",
    "        return float(result)\n",
    "    \n",
    "### Using the spherical quadrature function created above, we compute the L_r-norm of the polynomial.\n",
    "    \n",
    "    def Lr_norm(self,X,WX,r):\n",
    "        \n",
    "        \"\"\"\n",
    "        Parameters:\n",
    "        \n",
    "        self: Parameter in instance method. Polynomial defined in the class.\n",
    "        X: list. List of elements in X corresponding to the cubature formula.\n",
    "        WX: list. List of elements in WX corresponding to the cubature formula.\n",
    "        r: int. Point at which the polynomial is evaluated.\n",
    "        \n",
    "        Output:\n",
    "        \n",
    "        return: float. L_r-norm of the polynomial.\n",
    "        \"\"\"\n",
    "        \n",
    "        c = sphere_surface_area(self.num_var-1)\n",
    "        \n",
    "        evaluations = parallelized_evaluation(self,X)\n",
    "        evaluations = np.array(evaluations)**r\n",
    "        \n",
    "        return ((1/c) * np.sum(WX*(evaluations)))**(1/r)"
   ]
  },
  {
   "cell_type": "markdown",
   "id": "e030ccf9",
   "metadata": {},
   "source": [
    "For convenience we include a function calling the evaluate above."
   ]
  },
  {
   "cell_type": "code",
   "execution_count": 7,
   "id": "06097d45",
   "metadata": {
    "tags": []
   },
   "outputs": [],
   "source": [
    "def evaluate_pol(poly,v):\n",
    "    \n",
    "    \"\"\"\n",
    "    Parameters:\n",
    "    \n",
    "    poly: custom_polynomial. Polynomial to be evaluated.\n",
    "    v: list. Point we the polynomial is evaluated.\n",
    "    \n",
    "    Output:\n",
    "    \n",
    "    fv: float. Evaluation of the polynomial at v.\n",
    "    \"\"\"\n",
    "\n",
    "    fv = poly.evaluate(v)\n",
    "    return fv"
   ]
  },
  {
   "cell_type": "markdown",
   "id": "60de5553",
   "metadata": {},
   "source": [
    "In addition, to accelarate the process, we include the parallelized_evaluation. This allows us to evaluate a polynomial at different points in a parallelized manner."
   ]
  },
  {
   "cell_type": "code",
   "execution_count": 8,
   "id": "4081310d",
   "metadata": {},
   "outputs": [],
   "source": [
    "def parallelized_evaluation(poly,V,npartitions = 8):\n",
    "\n",
    "    \"\"\"\n",
    "    Parameters:\n",
    "    \n",
    "    poly: custom_polynomial. Polynomial in the class custom_polynomial.    \n",
    "    V: list. Points at which the polynomial is evaluated.\n",
    "    npartitions: . Number of partitions to be used.\n",
    "    \n",
    "    Output:\n",
    "    \n",
    "    fV: list. Evaluations of the polynomial at each element of V.\n",
    "    \"\"\"\n",
    "    \n",
    "    df = pd.DataFrame(V)\n",
    "    df = dd.from_pandas(df,npartitions = npartitions)\n",
    "    \n",
    "    fV = df.apply(lambda row: evaluate_pol(poly,row), axis = 1, meta = (None, 'float64'))\n",
    "    \n",
    "    fV = fV.compute()\n",
    "    \n",
    "    return fV.values"
   ]
  },
  {
   "cell_type": "markdown",
   "id": "15d24dac",
   "metadata": {},
   "source": [
    "##### Example"
   ]
  },
  {
   "cell_type": "code",
   "execution_count": 9,
   "id": "e8508223",
   "metadata": {},
   "outputs": [
    {
     "data": {
      "text/latex": [
       "$\\displaystyle 7 \\left(x_{1} + 2 x_{2} + 3 x_{3}\\right)^{4}$"
      ],
      "text/plain": [
       "7*(x1 + 2*x2 + 3*x3)**4"
      ]
     },
     "execution_count": 9,
     "metadata": {},
     "output_type": "execute_result"
    }
   ],
   "source": [
    "deg = 4\n",
    "r = 4\n",
    "vector = [1,2,3]\n",
    "const = 7\n",
    "\n",
    "poly = custom_polynomial(const,vector,deg)\n",
    "\n",
    "poly.expr"
   ]
  },
  {
   "cell_type": "code",
   "execution_count": 10,
   "id": "aebacbf5",
   "metadata": {},
   "outputs": [
    {
     "data": {
      "text/plain": [
       "697.5393316313748"
      ]
     },
     "execution_count": 10,
     "metadata": {},
     "output_type": "execute_result"
    }
   ],
   "source": [
    "X, WX = spherical_quadrature(3,4)\n",
    "lrnorm = poly.Lr_norm(X, WX, r)\n",
    "\n",
    "lrnorm"
   ]
  },
  {
   "cell_type": "markdown",
   "id": "9dd0e919",
   "metadata": {},
   "source": [
    "## Perturbed Symmetric Tensors\n",
    "\n",
    "We create symmetric tensors as follows: we first form a low-rank input $\\sum\\limits_{i=1}^m c_i \\langle v_i,x \\rangle ^d$, then we perturb this input\n",
    "with a high rank symmetric tensor to make it a high-rank tensor. In the end, we create high-rank symmetric tensors that have\n",
    "$\\epsilon$ distance to a low-rank input."
   ]
  },
  {
   "cell_type": "code",
   "execution_count": 11,
   "id": "ee80f136",
   "metadata": {},
   "outputs": [],
   "source": [
    "def polynomial_sum(polynomial_list, eps):\n",
    "    \"\"\"\n",
    "    Parameter:\n",
    "    \n",
    "    polynomial_list: list. List of polynomials in the class custom_polynomial.\n",
    "    \n",
    "    eps: float. The epsilon perturbation to introduce.\n",
    "    \n",
    "    Output:\n",
    "    \n",
    "    output_poly: custom_polynomial. Polynomial resulting from the sum of all polynomials given in the list.\n",
    "    \"\"\"\n",
    "    \n",
    "    deg = polynomial_list[0].degree\n",
    "    variables = polynomial_list[0].variables\n",
    "    \n",
    "    output_poly = copy.copy(polynomial_list[0])\n",
    "    \n",
    "    output_expr = 0\n",
    "    for i in range(len(polynomial_list)):\n",
    "        output_expr += polynomial_list[i].expr\n",
    "    \n",
    "    aux_poly = eps*0.5*sum(variables[i]**2 for i in range(len(variables)))**(deg*0.5)\n",
    "    \n",
    "    output_poly.expr = output_expr + aux_poly\n",
    "    output_poly.f = lambdify(list(output_poly.variables),output_poly.expr)\n",
    "    \n",
    "    return output_poly"
   ]
  },
  {
   "cell_type": "markdown",
   "id": "5c9798e4",
   "metadata": {},
   "source": [
    "##### Example"
   ]
  },
  {
   "cell_type": "code",
   "execution_count": 12,
   "id": "93f7b207",
   "metadata": {},
   "outputs": [
    {
     "data": {
      "text/latex": [
       "$\\displaystyle 0.520189144987569 \\left(- 0.014439853218456 x_{1} - x_{2} + 0.276141548705909 x_{3}\\right)^{2} - 0.355643107197709 \\left(x_{1} + 0.896793453631412 x_{2} - 0.955563315188503 x_{3}\\right)^{2} + 0.05 \\left(x_{1}^{2} + x_{2}^{2} + x_{3}^{2}\\right)^{1.0}$"
      ],
      "text/plain": [
       "0.520189144987569*(-0.014439853218456*x1 - x2 + 0.276141548705909*x3)**2 - 0.355643107197709*(x1 + 0.896793453631412*x2 - 0.955563315188503*x3)**2 + 0.05*(x1**2 + x2**2 + x3**2)**1.0"
      ]
     },
     "execution_count": 12,
     "metadata": {},
     "output_type": "execute_result"
    }
   ],
   "source": [
    "m= 2\n",
    "n = 3\n",
    "deg = 2\n",
    "vectors = np.random.randn(m, n)\n",
    "vectors /= np.linalg.norm(vectors, axis=1)[:, None]\n",
    "consts = np.random.randn(m)\n",
    "\n",
    "polynomial_list = [custom_polynomial(consts[i],vectors[i],deg) for i in range(m)]\n",
    "\n",
    "poly = polynomial_sum(polynomial_list, 0.1)\n",
    "\n",
    "poly.expr"
   ]
  },
  {
   "cell_type": "markdown",
   "id": "f1db18ee",
   "metadata": {},
   "source": [
    "## Finding $v \\in \\mathbb{S}^{n-1}$ such that $\\frac{1}{2}||f||_r \\leq |f(v)|$ for a symmetric tensor $f$"
   ]
  },
  {
   "cell_type": "markdown",
   "id": "6f37a423",
   "metadata": {},
   "source": [
    "We define a function which samples vectors on the sphere."
   ]
  },
  {
   "cell_type": "code",
   "execution_count": 13,
   "id": "a29ead6c",
   "metadata": {},
   "outputs": [],
   "source": [
    "def sample_spherical(n, size):\n",
    "\n",
    "    \"\"\"\n",
    "    Parameters:\n",
    "    \n",
    "    n: int. Number of variables.\n",
    "    size: int. Number of points to sample.\n",
    "    \n",
    "    Output:\n",
    "    \n",
    "    V: list. Vector of points sampled on the (n-1)-dimensional sphere.\n",
    "    \"\"\"\n",
    "    \n",
    "    V = np.random.randn(size, n)\n",
    "    V /= np.linalg.norm(V, axis=1)[:, None]\n",
    "    return V"
   ]
  },
  {
   "cell_type": "markdown",
   "id": "d403b0e4",
   "metadata": {},
   "source": [
    " Note that for reasonably large $n$, the sample size does not depend on $n$. The sample size increases with respect to $r$ in $L_r$-norm and with respect to degree exponentially. We determined the needed size for a high probability success in our paper, https://arxiv.org/pdf/2207.12529.pdf, below it is recorded."
   ]
  },
  {
   "cell_type": "code",
   "execution_count": 14,
   "id": "002fa54d",
   "metadata": {},
   "outputs": [],
   "source": [
    "def sample_size(n, deg, r, accu):\n",
    "    \n",
    "    \"\"\"\n",
    "    Parameters:\n",
    "    \n",
    "    n: int. Number of variables.\n",
    "    deg: int. Degree of the polynomial. Must be an even number.\n",
    "    r: int. We need to specify here which L_r-norm we are using.\n",
    "    accu: float. Number between 0 and 1 determining the level of accuracy.\n",
    "    \n",
    "    Output:\n",
    "    \n",
    "    return: int. Size needed to achieve the condition with the given level of accuracy.\n",
    "    \"\"\"\n",
    "    \n",
    "    C = 2\n",
    "    t = -np.log(1-accu)\n",
    "    a = (C*r)**(deg/2)\n",
    "    b = (comb(r*deg + n - 1 , r*deg))**(1/(2*r))\n",
    "    alpha = np.minimum(a,b)\n",
    "    return math.ceil(t * (alpha)**(2*r))"
   ]
  },
  {
   "cell_type": "markdown",
   "id": "424a0708",
   "metadata": {},
   "source": [
    "We provide the function that verifies the desired condition holds for a vector. If after sampling the condition does not hold for any vector, the function samples again. This allows us to change the sample size as we wish and still have a certifiably correct computation. Below, max_size allows the user to pick the sample size. In this implementation we capped the number of tries to $10$ to avoid too many loops, which can be changed at will.\n",
    "\n",
    "Notice an input parameter is the $L_r$-norm of $f$. Since it does not change, we compute it in advance once and save ourselves from computing it everytime this function loops.\n",
    "\n",
    "In addition to the above, we introduced an \"inner\" input. This determines how far the newly found vector is from the previous ones. For example, an inner of $0.8$ forces the inner product between the new vector and the previous ones to be at most $0.8$. We introduced this controlled since vectors close to the previous ones (that is, inner product close to one) did not provide an appreciable improvement on the error. Therefore, if the new vector is not far enough from the previous ones, the function finds a new one."
   ]
  },
  {
   "cell_type": "code",
   "execution_count": 15,
   "id": "96e4f5b2",
   "metadata": {},
   "outputs": [],
   "source": [
    "def vec_finder(n, r, poly, lrnorm ,accu, max_size, inner, W, tries = 1):\n",
    "    \n",
    "    \"\"\"\n",
    "    Parameters:\n",
    "    \n",
    "    n: int. Number of variables.\n",
    "    r: int. We need to specify here which L_r-norm we are using.\n",
    "    poly: custom_polynomial. Polynomial in the class custom_polynomial. \n",
    "    lrnorm: float. L_r-norm of the given polynomial.\n",
    "    accu: float. Number between 0 and 1 determining the level of accuracy.\n",
    "    max_size: int. Number of points to sample.\n",
    "    inner: float. Number between 0 and 1. \n",
    "    W: list. List of vectors corresponding to the orthogonal polynomials.\n",
    "    tries: int. Auxiliary counter. Initial number of tries, set by default to start counting at 1.\n",
    "    \n",
    "    Outputs:\n",
    "    \n",
    "    v: list. Vector for which the inequality holds.\n",
    "    fv: list. Value of the polynomial evaluated at the vector for which the inequality holds.\n",
    "    q: custom_polynomial. Polynomial defined by the vector v, that is, <v,x>^d.\n",
    "    \"\"\"\n",
    "    \n",
    "    deg = poly.degree\n",
    "    V = sample_spherical(n, max_size)\n",
    "    \n",
    "    if W != []:\n",
    "        inner_product = np.absolute(np.matmul(V,np.array(W).T))\n",
    "        V = V[np.max(inner_product,axis = 1) < inner,:]\n",
    "        \n",
    "    \n",
    "    fV = parallelized_evaluation(poly,V)\n",
    "    \n",
    "    abs_fV = np.absolute(fV)\n",
    "    \n",
    "    max_position = np.argmax(abs_fV)\n",
    "    v = V[max_position]\n",
    "    fv = fV[max_position]\n",
    "    abs_fv = np.max(abs_fV)\n",
    "    \n",
    "    max_tries = 10\n",
    "    \n",
    "    if 0.5*lrnorm <= abs_fv:\n",
    "        q = custom_polynomial(1,v,deg)\n",
    "        return list(v), fv, q\n",
    "    else:\n",
    "        tries += 1\n",
    "        print(\"The vectors do not meet the requirement\")\n",
    "        if tries <= max_tries:\n",
    "            print(\"Starting the next try, tries remaining: {}\".format(max_tries - tries + 1))\n",
    "            vec_finder(n, r, poly, lrnorm ,accu, max_size, inner, W,tries)\n",
    "        else:\n",
    "            raise Exception(\"Maximum number of tries exceeded\")"
   ]
  },
  {
   "cell_type": "markdown",
   "id": "7b2e9670",
   "metadata": {},
   "source": [
    "## Orthogonal basis and orthogonal projection"
   ]
  },
  {
   "cell_type": "markdown",
   "id": "22413fb5",
   "metadata": {},
   "source": [
    "We define an $L_r$-norm for a general symmetric tensor. This is due to the fact that we will need to compute the $L_r$-norm of the difference between $f$ and its orthogonal projection onto a subspace."
   ]
  },
  {
   "cell_type": "code",
   "execution_count": 16,
   "id": "f7ac6689",
   "metadata": {},
   "outputs": [],
   "source": [
    "def Lr_norm(X, WX, n, r, poly):\n",
    "\n",
    "    \"\"\"\n",
    "    Parameters:\n",
    "    \n",
    "    X: list. List of elements in X corresponding to the quadrature formula.\n",
    "    WX: list. List of elements in WX corresponding to the quadrature formula.\n",
    "    r: int. Point at which the polynomial is evaluated.\n",
    "    \n",
    "    Output:\n",
    "    \n",
    "    return: float. L_r-norm of the polynomial.\n",
    "    \"\"\"\n",
    "    \n",
    "    c = sphere_surface_area(n-1)\n",
    "    deg = poly.degree\n",
    "        \n",
    "    evaluations = parallelized_evaluation(poly,X)\n",
    "        \n",
    "    evaluations = np.array(evaluations)**r\n",
    "    \n",
    "    return ((1/c) * np.sum(WX*(evaluations)))**(1/r)"
   ]
  },
  {
   "cell_type": "markdown",
   "id": "325e3af3",
   "metadata": {},
   "source": [
    "Since we need the difference between two polynomials, we define such function."
   ]
  },
  {
   "cell_type": "code",
   "execution_count": 17,
   "id": "304e98b5",
   "metadata": {},
   "outputs": [],
   "source": [
    "def polynomial_difference(polynomial, new_expr):\n",
    "\n",
    "    \"\"\"\n",
    "    Parameters:\n",
    "    \n",
    "    polynomial: custom_polynomial. First polynomial.\n",
    "    new_expr: custom_polynomial. Second polynomial to be subtracted from the first one.\n",
    "    \n",
    "    Output:\n",
    "    \n",
    "    new_poly: custom_polynomial. Polynomial difference of the two polynomial above.\n",
    "    \"\"\"\n",
    "\n",
    "    new_poly = copy.copy(polynomial)\n",
    "    new_poly.expr -= new_expr\n",
    "    new_poly.f = lambdify(list(new_poly.variables),new_poly.expr)\n",
    "    \n",
    "    return new_poly"
   ]
  },
  {
   "cell_type": "markdown",
   "id": "83cb21a6",
   "metadata": {},
   "source": [
    "The add_vector function does the following:\n",
    "* Determines if the rank-one polynomial given by the found vector is included in the vector space spanned by the rank-one polynomials obtained earlier.\n",
    "* If the rank-one polynomial is not in the span, the vector space gets updated, and the algorithm projects $f$ onto this new subspace.\n",
    "* Computes the error. That is, the $L_r$-norm of the difference between $f$ and its orthogonal projection."
   ]
  },
  {
   "cell_type": "code",
   "execution_count": 18,
   "id": "583297b4",
   "metadata": {},
   "outputs": [],
   "source": [
    "def add_vector(W,fW,Q,X,WX,n,r,poly,lrnorm,max_size,inner,accu):\n",
    "\n",
    "    \"\"\"\n",
    "    Parameters:\n",
    "    \n",
    "    W: list. List of vectors for which their related polynomials are orthogonal.\n",
    "    fW: list. List of evaluation of f at the vectors from W.\n",
    "    Q: list. List of orthogonal polynomials given by the vectors in W.\n",
    "    X: list. List of elements in X corresponding to the cubature formula.\n",
    "    WX: list. List of elements in WX corresponding to the cubature formula.\n",
    "    n: int. Number of variables.\n",
    "    r: int. We need to specify here which L_r-norm we are using.\n",
    "    poly: custom_polynomial. Polynomial in the class custom_polynomial. \n",
    "    lrnorm: float. L_r-norm of the given polynomial.\n",
    "    max_size: int. Number of points to sample.\n",
    "    inner: float. Number between 0 and 1.  \n",
    "    accu: float. Number between 0 and 1 determining the level of accuracy.\n",
    "    \n",
    "    Outputs:\n",
    "    \n",
    "    W: list. List of vectors for which their related polynomials are orthogonal, including the last found.\n",
    "    fW: list. List of evaluation of f at the vectors from W, including the last found.\n",
    "    Q: list. List of orthogonal polynomials given by the vectors in W, including the last found.\n",
    "    error: float. L_r-norm of the difference between f and its projection.\n",
    "    projection_poly: custom_polynomial. Polynomial resulting from the projection of f onto the subspace.\n",
    "    \"\"\"\n",
    "\n",
    "    v, fv, q = vec_finder(n, r, poly, lrnorm ,accu, max_size, inner, W)\n",
    "    deg = poly.degree\n",
    "    new_W = W + [v]\n",
    "    #W.append(v)\n",
    "    matrix = np.power((np.matrix(new_W)@np.matrix(new_W).T),deg)\n",
    "    rank = np.linalg.matrix_rank(matrix)\n",
    "    if rank != len(matrix):\n",
    "        print(\"The matrix is singular\")\n",
    "        print(\"Computing a new vector\")\n",
    "        add_vector(W,fW,Q,X,WX,n,r,poly,lrnorm,max_size,inner,accu)\n",
    "    else:\n",
    "        W.append(v)\n",
    "        fW.append(fv)\n",
    "        Q.append(q)\n",
    "        inv_matrix = np.linalg.inv(matrix)\n",
    "        B = np.array((inv_matrix*(np.matrix(fW).reshape(len(matrix),1)))).ravel()\n",
    "        projection_poly = 0\n",
    "        for i in range(len(Q)):\n",
    "            projection_poly += B[i]* Q[i].expr \n",
    "            \n",
    "        poly_diff = polynomial_difference(poly, projection_poly)\n",
    "            \n",
    "        error = Lr_norm(X, WX, n, r, poly_diff)\n",
    "        \n",
    "        return W, fW, Q, error, projection_poly      "
   ]
  },
  {
   "cell_type": "markdown",
   "id": "0b58956b",
   "metadata": {},
   "source": [
    "## Greedy Aproximation via Energy Increment"
   ]
  },
  {
   "cell_type": "code",
   "execution_count": 19,
   "id": "fb12219e",
   "metadata": {},
   "outputs": [],
   "source": [
    "def greedy_approximation(n,r,poly,accu,inner,eps,tol=1e-03, max_iter = 1000):\n",
    "\n",
    "    \"\"\"\n",
    "    Parameters:\n",
    "    \n",
    "    n: int. Number of variables.\n",
    "    r: int. We need to specify here which L_r-norm we are using.\n",
    "    poly: custom_polynomial. Polynomial in the class custom_polynomial. \n",
    "    accu: float. Number between 0 and 1 determining the level of accuracy.\n",
    "    inner: float. Number between 0 and 1.\n",
    "    eps: float. The improvement of the error we want at each iteration to keep the found vector.\n",
    "    tol: float. Tolerance level to stop the process. Set by default to 1e-06.\n",
    "    max_iter: int. Maximum number of iterations we want to compute. Set by default to 1,000.\n",
    "    \n",
    "    Outputs:\n",
    "    \n",
    "    projection_poly: custom_polynomial. Polynomial resulting from the projection of f onto the subspace.\n",
    "    \"\"\"\n",
    "    \n",
    "    deg = poly.degree\n",
    "    max_vec = comb(n+deg-1 , deg)\n",
    "    W = []\n",
    "    fW = []\n",
    "    Q = []\n",
    "    \n",
    "    print(\"Computing the Spherical Quadrature\")\n",
    "    init = time.time()\n",
    "    X,WX = spherical_quadrature(n,deg)\n",
    "    end = time.time()\n",
    "    print(\"Elapsed time for the Spherical Quadrature: {} seconds\".format(round(end - init)))\n",
    "\n",
    "    lrnorm = poly.Lr_norm(X,WX,r)\n",
    "    \n",
    "    size = sample_size(n, deg, r, accu)\n",
    "    # We cap here the sample size to 100,000 to be able to run the code in our computer.\n",
    "    max_size = min(size,100000)\n",
    "    error = np.inf\n",
    "    print(\"The global threshold is: {}\".format(eps))\n",
    "    print(\"The size of a basis for this space is: {}\".format(max_vec))\n",
    "    iteration = 1\n",
    "    while error >= eps:\n",
    "        init = time.time()\n",
    "        old_error = error\n",
    "        W, fW, Q, error, projection_poly = add_vector(W,fW,Q,X,WX,n,r,poly,lrnorm,max_size,inner,accu)\n",
    "        difference = old_error - error\n",
    "        lrnorm = error\n",
    "        #print(\"The error is now: {}\".format(error))\n",
    "        #print(\"The difference between this iteration and the last one is: {}\".format(difference))\n",
    "        end = time.time()\n",
    "        print(\"Elapsed time of the loop: {} seconds\".format(end-init))\n",
    "        \n",
    "        if difference <= tol:\n",
    "            error = old_error\n",
    "            W = W[:-1]\n",
    "            fW = fW[:-1]\n",
    "            Q = Q[:-1]\n",
    "            iteration +=1\n",
    "            if iteration >= max_iter:\n",
    "                print(\"Maximum number of iteration reached\")\n",
    "                break\n",
    "        else:\n",
    "            print(\"Vector found, {}\".format(W[-1]))\n",
    "            print(\"The error is now: {}\".format(error))\n",
    "            print(\"The difference between this iteration and the last one is: {}\".format(difference))\n",
    "            print(\"The number of vectors is {}\".format(len(W)))\n",
    "        \n",
    "        if len(W) >= max_vec:\n",
    "            print(\"Number of iteration exceeded\")\n",
    "            break\n",
    "        \n",
    "\n",
    "    return projection_poly    "
   ]
  },
  {
   "cell_type": "markdown",
   "id": "d34215df",
   "metadata": {},
   "source": [
    "##### Example"
   ]
  },
  {
   "cell_type": "code",
   "execution_count": 20,
   "id": "720841d9",
   "metadata": {},
   "outputs": [],
   "source": [
    "N = 10\n",
    "n = 6\n",
    "deg = 18\n",
    "r = 4\n",
    "accu = 0.95\n",
    "inner = 0.8\n",
    "eps = 0.3\n",
    "\n",
    "vectors = sample_spherical(n,N)\n",
    "consts = np.random.randn(N)\n",
    "polynomial_list = [custom_polynomial(consts[i],vectors[i],deg) for i in range(N)]\n",
    "poly = polynomial_sum(polynomial_list, eps)"
   ]
  },
  {
   "cell_type": "code",
   "execution_count": 21,
   "id": "9195a387",
   "metadata": {
    "scrolled": true
   },
   "outputs": [
    {
     "name": "stdout",
     "output_type": "stream",
     "text": [
      "Computing the Spherical Quadrature\n",
      "Elapsed time for the Spherical Quadrature: 44 seconds\n",
      "The global threshold is: 0.3\n",
      "The size of a basis for this space is: 33649\n",
      "Elapsed time of the loop: 51.18361139297485 seconds\n",
      "Vector found, [-0.30310342690138525, -0.08039060562103909, 0.8544826906070392, 0.07656406154682123, -0.4038490406111011, 0.05068423283844717]\n",
      "The error is now: 0.17446704029142934\n",
      "The difference between this iteration and the last one is: inf\n",
      "The number of vectors is 1\n",
      "CPU times: total: 2min 23s\n",
      "Wall time: 2min 24s\n"
     ]
    }
   ],
   "source": [
    "%%time\n",
    "projection_poly = greedy_approximation(n,r,poly,accu,inner,eps)"
   ]
  },
  {
   "cell_type": "code",
   "execution_count": 22,
   "id": "52fe35fa",
   "metadata": {
    "scrolled": true
   },
   "outputs": [
    {
     "data": {
      "text/latex": [
       "$\\displaystyle - 0.0670334979434748 \\left(- 0.3547215528568 x_{1} - 0.0940810229449215 x_{2} + x_{3} + 0.0896028233087189 x_{4} - 0.472624015735415 x_{5} + 0.0593156928696124 x_{6}\\right)^{18}$"
      ],
      "text/plain": [
       "-0.0670334979434748*(-0.3547215528568*x1 - 0.0940810229449215*x2 + x3 + 0.0896028233087189*x4 - 0.472624015735415*x5 + 0.0593156928696124*x6)**18"
      ]
     },
     "execution_count": 22,
     "metadata": {},
     "output_type": "execute_result"
    }
   ],
   "source": [
    "projection_poly"
   ]
  },
  {
   "cell_type": "code",
   "execution_count": null,
   "id": "a3fd9b83",
   "metadata": {},
   "outputs": [],
   "source": []
  }
 ],
 "metadata": {
  "kernelspec": {
   "display_name": "Python 3 (ipykernel)",
   "language": "python",
   "name": "python3"
  },
  "language_info": {
   "codemirror_mode": {
    "name": "ipython",
    "version": 3
   },
   "file_extension": ".py",
   "mimetype": "text/x-python",
   "name": "python",
   "nbconvert_exporter": "python",
   "pygments_lexer": "ipython3",
   "version": "3.10.9"
  }
 },
 "nbformat": 4,
 "nbformat_minor": 5
}
